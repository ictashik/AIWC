{
 "cells": [
  {
   "cell_type": "markdown",
   "id": "5270a984",
   "metadata": {},
   "source": [
    "# Time-Series Analysis of Patient Monitoring Data\n",
    "### Predicting Heart Rate Anomalies using ARIMA and LSTM\n",
    "\n",
    "In this notebook, we:\n",
    "- Simulate patient heart rate data over time.\n",
    "- Identify and visualize an anomaly (simulated event).\n",
    "- Apply **ARIMA** for time-series forecasting.\n",
    "- Apply **LSTM** (deep learning) for sequential prediction.\n",
    "\n",
    "This tutorial demonstrates key concepts in time-series analysis for healthcare applications."
   ]
  },
  {
   "cell_type": "markdown",
   "id": "26736ed7",
   "metadata": {},
   "source": [
    "## Step 1: Import Required Libraries\n",
    "\n",
    "We first import the necessary Python libraries."
   ]
  },
  {
   "cell_type": "code",
   "execution_count": null,
   "id": "ee397e62",
   "metadata": {},
   "outputs": [],
   "source": [
    "!pip install vitaldb"
   ]
  },
  {
   "cell_type": "code",
   "execution_count": null,
   "id": "6359ace3",
   "metadata": {},
   "outputs": [],
   "source": [
    "import numpy as np\n",
    "import pandas as pd\n",
    "import matplotlib.pyplot as plt\n",
    "import seaborn as sns\n",
    "\n",
    "# For ARIMA\n",
    "from statsmodels.tsa.arima.model import ARIMA\n",
    "\n",
    "# For LSTM\n",
    "import tensorflow as tf\n",
    "from tensorflow.keras.models import Sequential\n",
    "from tensorflow.keras.layers import LSTM, Dense\n",
    "from sklearn.preprocessing import MinMaxScaler\n",
    "\n",
    "# Set plot style\n",
    "sns.set(style='whitegrid')"
   ]
  },
  {
   "cell_type": "markdown",
   "id": "0e3715dd",
   "metadata": {},
   "source": []
  },
  {
   "cell_type": "markdown",
   "id": "7169f510",
   "metadata": {},
   "source": [
    "## Step 2: Simulate Patient Heart Rate Data\n",
    "\n",
    "We generate 2 days of minute-by-minute heart rate data with an anomaly."
   ]
  },
  {
   "cell_type": "code",
   "execution_count": null,
   "id": "867cae47",
   "metadata": {},
   "outputs": [],
   "source": [
    "# Create timestamps (every minute for 2 days)\n",
    "date_range = pd.date_range(start='2023-01-01', periods=2880, freq='T')\n",
    "\n",
    "# Generate normal heart rate values (80 bpm ± some noise)\n",
    "np.random.seed(42)\n",
    "heart_rate = np.random.normal(loc=80, scale=3, size=2880)\n",
    "\n",
    "# Introduce an anomaly (sudden increase in heart rate)\n",
    "heart_rate[1400:1500] += 15\n",
    "\n",
    "# Create DataFrame\n",
    "df = pd.DataFrame({'timestamp': date_range, 'heart_rate': heart_rate})\n",
    "df.set_index('timestamp', inplace=True)\n",
    "\n",
    "# Display first few rows\n",
    "df.head()"
   ]
  },
  {
   "cell_type": "markdown",
   "id": "5d935cd6",
   "metadata": {},
   "source": [
    "## Step 3: Visualize the Data\n",
    "\n",
    "Plot the heart rate data with the anomaly highlighted."
   ]
  },
  {
   "cell_type": "code",
   "execution_count": null,
   "id": "3ae55f73",
   "metadata": {},
   "outputs": [],
   "source": [
    "plt.figure(figsize=(12,6))\n",
    "plt.plot(df.index, df['heart_rate'], label='Heart Rate')\n",
    "plt.axvspan(df.index[1400], df.index[1500], color='red', alpha=0.3, label='Anomaly Period')\n",
    "plt.title('Simulated Patient Heart Rate over Time')\n",
    "plt.xlabel('Time')\n",
    "plt.ylabel('Heart Rate (bpm)')\n",
    "plt.legend()\n",
    "plt.show()"
   ]
  },
  {
   "cell_type": "markdown",
   "id": "b1a5d5d2",
   "metadata": {},
   "source": [
    "## Step 4: Forecasting with ARIMA\n",
    "\n",
    "We fit an ARIMA model and predict the next 100 minutes of heart rate."
   ]
  },
  {
   "cell_type": "code",
   "execution_count": null,
   "id": "d1620305",
   "metadata": {},
   "outputs": [],
   "source": [
    "# Fit ARIMA model\n",
    "model = ARIMA(df['heart_rate'], order=(5,1,0))\n",
    "model_fit = model.fit()\n",
    "print(model_fit.summary())\n",
    "\n",
    "# Forecast the next 100 minutes\n",
    "forecast = model_fit.forecast(steps=100)\n",
    "\n",
    "# Plot\n",
    "plt.figure(figsize=(12,6))\n",
    "plt.plot(df.index, df['heart_rate'], label='Observed Heart Rate')\n",
    "forecast_index = pd.date_range(start=df.index[-1], periods=101, freq='T')[1:]\n",
    "plt.plot(forecast_index, forecast, label='ARIMA Forecast', color='orange')\n",
    "plt.title('ARIMA Forecast of Patient Heart Rate')\n",
    "plt.xlabel('Time')\n",
    "plt.ylabel('Heart Rate (bpm)')\n",
    "plt.legend()\n",
    "plt.show()"
   ]
  },
  {
   "cell_type": "markdown",
   "id": "daa4c1e1",
   "metadata": {},
   "source": [
    "## Step 5: Forecasting with LSTM\n",
    "\n",
    "### 5.1 Data Preparation\n",
    "\n",
    "We scale the data and create sequences for training the LSTM model."
   ]
  },
  {
   "cell_type": "code",
   "execution_count": null,
   "id": "4f4349a1",
   "metadata": {},
   "outputs": [],
   "source": [
    "# Scale data\n",
    "scaler = MinMaxScaler(feature_range=(0,1))\n",
    "data_scaled = scaler.fit_transform(df[['heart_rate']])\n",
    "\n",
    "# Create sequences (past 60 minutes → next minute prediction)\n",
    "sequence_length = 60\n",
    "X, y = [], []\n",
    "for i in range(len(data_scaled) - sequence_length):\n",
    "    X.append(data_scaled[i:i+sequence_length])\n",
    "    y.append(data_scaled[i+sequence_length])\n",
    "X, y = np.array(X), np.array(y)\n",
    "\n",
    "# Train-test split\n",
    "train_size = int(0.8 * len(X))\n",
    "X_train, X_test = X[:train_size], X[train_size:]\n",
    "y_train, y_test = y[:train_size], y[train_size:]"
   ]
  },
  {
   "cell_type": "markdown",
   "id": "d3c243e6",
   "metadata": {},
   "source": [
    "### 5.2 Train the LSTM Model"
   ]
  },
  {
   "cell_type": "code",
   "execution_count": null,
   "id": "e8402b92",
   "metadata": {},
   "outputs": [],
   "source": [
    "# Define LSTM model\n",
    "model_lstm = Sequential([\n",
    "    LSTM(50, activation='relu', input_shape=(sequence_length, 1)),\n",
    "    Dense(1)\n",
    "])\n",
    "model_lstm.compile(optimizer='adam', loss='mse')\n",
    "\n",
    "# Train the model\n",
    "history = model_lstm.fit(X_train, y_train, epochs=10, batch_size=32, validation_data=(X_test, y_test))"
   ]
  },
  {
   "cell_type": "markdown",
   "id": "eb4014f9",
   "metadata": {},
   "source": [
    "### 5.3 Evaluate LSTM Predictions"
   ]
  },
  {
   "cell_type": "code",
   "execution_count": null,
   "id": "98adb12a",
   "metadata": {},
   "outputs": [],
   "source": [
    "# Generate predictions\n",
    "predictions = model_lstm.predict(X_test)\n",
    "\n",
    "# Inverse transform predictions\n",
    "predictions_inv = scaler.inverse_transform(predictions)\n",
    "y_test_inv = scaler.inverse_transform(y_test)\n",
    "\n",
    "# Plot actual vs predicted values\n",
    "plt.figure(figsize=(12,6))\n",
    "plt.plot(y_test_inv, label='Actual Heart Rate')\n",
    "plt.plot(predictions_inv, label='Predicted Heart Rate', alpha=0.7)\n",
    "plt.title('LSTM: Actual vs. Predicted Heart Rate')\n",
    "plt.xlabel('Time Step')\n",
    "plt.ylabel('Heart Rate (bpm)')\n",
    "plt.legend()\n",
    "plt.show()"
   ]
  },
  {
   "cell_type": "markdown",
   "id": "b3b4c85d",
   "metadata": {},
   "source": [
    "## Step 6: Conclusion\n",
    "\n",
    "- **We simulated heart rate data** and introduced an anomaly.\n",
    "- **We used ARIMA to forecast time-series data.**\n",
    "- **We built an LSTM model for sequential forecasting.**\n",
    "\n",
    "**Next Steps:**\n",
    "- Try different ARIMA and LSTM hyperparameters.\n",
    "- Experiment with real ICU datasets.\n",
    "- Implement real-time anomaly detection techniques."
   ]
  }
 ],
 "metadata": {
  "kernelspec": {
   "display_name": "base",
   "language": "python",
   "name": "python3"
  },
  "language_info": {
   "codemirror_mode": {
    "name": "ipython",
    "version": 3
   },
   "file_extension": ".py",
   "mimetype": "text/x-python",
   "name": "python",
   "nbconvert_exporter": "python",
   "pygments_lexer": "ipython3",
   "version": "3.10.13"
  }
 },
 "nbformat": 4,
 "nbformat_minor": 5
}
