{
  "cells": [
    {
      "cell_type": "markdown",
      "id": "7c6db6e7",
      "metadata": {},
      "source": [
        "# Day 1: Orientation & HPC Setup\n",
        "\n",
        "Welcome to **Day 1** of our elective: **AI in White Coat: Essential Machine Learning for Medicine**.\n",
        "\n",
        "In today’s session, we will:\n",
        "1. Get oriented with the High-Performance Computing (HPC) system at **`10.20.110.114`**.\n",
        "2. Learn basic commands for file navigation and environment setup.\n",
        "3. Practice a *prompt-first* approach to AI coding with the help of an LLM (e.g., ChatGPT).\n",
        "4. Verify our environment is ready for future deep learning tasks (e.g., check for GPU).\n",
        "\n",
        "---\n",
        "## 1. Logging into the HPC\n",
        "\n",
        "- **IP Address**: `10.20.110.114`  \n",
        "- **Username**: Your institutional email (e.g., `john.doe@college.edu`)  \n",
        "- **Password**: Your phone number  \n",
        "\n",
        "Once you're logged in (SSH, VSCode Server, etc.), you should see a Linux terminal prompt similar to:\n",
        "```\n",
        "(user@HPC) $\n",
        "```\n",
        "\n",
        "**Tip**: Keep your login credentials secure and **never** store real patient data on this machine.\n"
      ]
    },
    {
      "cell_type": "markdown",
      "id": "713166fe",
      "metadata": {},
      "source": [
        "## 2. Navigating the HPC Environment\n",
        "\n",
        "Some basic Linux commands you may need:\n",
        "\n",
        "- `ls`: List files/folders in the current directory.\n",
        "- `cd foldername`: Change directory into `foldername`.\n",
        "- `pwd`: Print current working directory.\n",
        "- `mkdir foldername`: Make a new directory.\n",
        "- `rm filename`: Remove a file (be careful!).\n",
        "- `rm -r foldername`: Remove a directory **recursively** (very careful!).\n",
        "\n",
        "Feel free to explore your home directory and create a folder named `day1_notebook`.\n"
      ]
    },
    {
      "cell_type": "markdown",
      "id": "ddea6cbc",
      "metadata": {},
      "source": [
        "### Checking Resources\n",
        "\n",
        "Open up terminal \n",
        "- bpytop\n",
        "- nvtop"
      ]
    },
    {
      "cell_type": "markdown",
      "id": "9bcb951b",
      "metadata": {},
      "source": [
        "## 3. Prompt-First Approach\n",
        "\n",
        "One of the unique aspects of this course is using a **Large Language Model** to generate or refine our code. Instead of typing everything by hand, you will:\n",
        "\n",
        "1. **Craft a prompt** that explains what you want (e.g., *“Please write a Python script that prints 'Hello AI in Healthcare!'”*).\n",
        "2. **Paste** the response from ChatGPT (or another LLM) into a code cell.\n",
        "3. **Run** the code cell and observe the results.\n",
        "\n",
        "We'll practice a simple example below.\n",
        "\n",
        "---\n",
        "### Example Prompt (Copy/Paste into ChatGPT)\n",
        "\n",
        "```\n",
        "I am in a Jupyter notebook on an HPC.\n",
        "Please generate a Python code snippet that prints:\n",
        "\"Hello from HPC! I'm excited to learn AI in Medicine.\"\n",
        "Ensure the code is valid Python 3\n",
        "and includes a comment line about HPC usage.\n",
        "```\n",
        "\n",
        "When the LLM responds with code, paste it in the cell below and run it.\n"
      ]
    },
    {
      "cell_type": "code",
      "execution_count": null,
      "id": "d683873e",
      "metadata": {
        "collapsed": false
      },
      "outputs": [],
      "source": [
        "# ====== LLM-GENERATED CODE CELL ======\n",
        "# Paste your code from the LLM here.\n",
        "# Example:\n",
        "\n",
        "print(\"Hello from HPC! I'm excited to learn AI in Medicine.\")\n"
      ]
    },
    {
      "cell_type": "markdown",
      "id": "93108e7a",
      "metadata": {},
      "source": [
        "## 4. Basic Python Setup & GPU Check\n",
        "\n",
        "We need to confirm our Python environment and see if the GPU is recognized.\n",
        "If you're using **PyTorch**, you can run the following prompt:\n",
        "\n",
        "```\n",
        "I have PyTorch installed on an HPC with a CUDA-enabled GPU.\n",
        "Please write a Python code snippet to:\n",
        "1. Import torch\n",
        "2. Print the PyTorch version\n",
        "3. Check if a GPU (CUDA) is available,\n",
        "4. If yes, print \"CUDA is available!\" else print \"No CUDA support found.\".\n",
        "```\n",
        "\n",
        "Copy the LLM's code into the cell below and run it. If your GPU is set up correctly, you'll see a message indicating CUDA is available.\n"
      ]
    },
    {
      "cell_type": "code",
      "execution_count": null,
      "id": "2f5aa322",
      "metadata": {
        "collapsed": false
      },
      "outputs": [],
      "source": [
        "# ====== LLM-GENERATED CODE CELL ======\n",
        "# Paste the GPU check code from the LLM here.\n",
        "# Example:\n",
        "\n",
        "import torch\n",
        "print(\"PyTorch version:\", torch.__version__)\n",
        "if torch.cuda.is_available():\n",
        "    print(\"CUDA is available!\")\n",
        "else:\n",
        "    print(\"No CUDA support found.\")"
      ]
    },
    {
      "cell_type": "markdown",
      "id": "04aba5d2",
      "metadata": {},
      "source": [
        "## 5. Exploring Open-Source Medical Datasets (Preview)\n",
        "\n",
        "In the upcoming sessions, we'll work with open-source medical datasets from platforms like [Hugging Face Datasets](https://huggingface.co/datasets) or [Kaggle](https://www.kaggle.com/). For example:\n",
        "\n",
        "- **[MedNIST](https://huggingface.co/datasets/MedMNIST/MedNIST)**: A small dataset with different medical imaging modalities.\n",
        "- **NIH Chest X-Ray dataset** (or smaller subsets available on Kaggle or Hugging Face).\n",
        "\n",
        "**Stay Tuned**: We'll dive deeper into loading and exploring such datasets on **Day 2**.\n",
        "\n",
        "---\n",
        "## 6. Wrap-Up & Reflection\n",
        "\n",
        "**What We Covered Today:**\n",
        "1. HPC login and basic navigation.\n",
        "2. *Prompt-first* approach with an LLM.\n",
        "3. Basic Python checks and CUDA availability.\n",
        "4. Preview of open-source medical datasets.\n",
        "\n",
        "**Why It’s Important**:\n",
        "- Familiarizing yourself with HPC resources lays the groundwork for handling larger datasets and computationally intensive ML tasks.\n",
        "- Prompting an LLM effectively can save time and help you focus on interpreting results rather than syntax.\n",
        "\n",
        "---\n",
        "## 7. Assignment: \"Hello HPC\"\n",
        "\n",
        "**Task**: Using the prompt-first approach, **create a short code snippet** that:\n",
        "1. Prints your name and why you’re interested in AI in Medicine.\n",
        "2. Creates a text file called `hello_hpc.txt` in your current directory with the line: `\"Day 1 was great, looking forward to more AI!\"`\n",
        "3. Verifies that the file has been created by reading it back and printing its contents.\n",
        "\n",
        "**Steps**:\n",
        "1. **Open ChatGPT** (or another LLM) and craft a prompt describing these 3 tasks.\n",
        "2. **Copy the LLM-generated code** into a new code cell below.\n",
        "3. **Run** it.\n",
        "4. Confirm the file `hello_hpc.txt` is created.\n",
        "5. **Reflect** on any challenges or interesting points in your daily log.\n",
        "\n",
        "When done, please note your progress, any roadblocks, and interesting observations in your **Daily Log** or **Portfolio** as required by the course.\n",
        "\n",
        "> **Human Touch Tip**: If you encounter errors, take a breath, re-check your prompt, or ask the LLM for help with debugging. This is about learning!\n",
        "\n"
      ]
    }
  ],
  "metadata": {
    "kernelspec": {
      "display_name": "Python 3",
      "language": "python",
      "name": "python3"
    },
    "language_info": {
      "codemirror_mode": {
        "name": "ipython",
        "version": 3
      },
      "file_extension": ".py",
      "mimetype": "text/x-python",
      "name": "python",
      "nbconvert_exporter": "python",
      "pygments_lexer": "ipython3",
      "version": "3.8"
    }
  },
  "nbformat": 4,
  "nbformat_minor": 5
}
