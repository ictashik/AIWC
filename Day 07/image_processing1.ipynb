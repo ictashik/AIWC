{
 "cells": [
  {
   "cell_type": "code",
   "execution_count": null,
   "id": "8b214c15-8b86-41cf-a350-06c7b09fdca5",
   "metadata": {},
   "outputs": [],
   "source": [
    "import numpy as np\n",
    "import matplotlib.pyplot as plt\n",
    "from skimage.segmentation import clear_border\n",
    "from skimage import measure\n",
    "from skimage.measure import label,regionprops\n",
    "from scipy import ndimage as ndi\n",
    "from scipy.ndimage import measurements, center_of_mass, binary_dilation, zoom\n",
    "import plotly.graph_objects as go"
   ]
  },
  {
   "cell_type": "markdown",
   "id": "38e60bfe-31de-4c5a-824c-a2a5f94449bb",
   "metadata": {},
   "source": [
    "Open data"
   ]
  },
  {
   "cell_type": "code",
   "execution_count": null,
   "id": "b4ab582a-047e-4f57-a121-2839cc57e197",
   "metadata": {},
   "outputs": [],
   "source": [
    "import os\n",
    "import zipfile\n",
    "import numpy as np\n",
    "\n",
    "zipfile_path = r'../Data/CT_scan.npy.zip'\n",
    "filepath = r'../Data/CT_scan.npy'\n",
    "\n",
    "# Check if the file exists\n",
    "if not os.path.exists(filepath):\n",
    "    # If not, extract it from the zip file\n",
    "    with zipfile.ZipFile(zipfile_path, 'r') as zip_ref:\n",
    "        zip_ref.extractall(os.path.dirname(filepath))\n",
    "\n",
    "# Load the numpy file\n",
    "img = np.load(filepath)"
   ]
  },
  {
   "cell_type": "code",
   "execution_count": null,
   "id": "fe3cedb5-7e4e-480f-8d22-e328b91249dd",
   "metadata": {},
   "outputs": [],
   "source": [
    "img.shape"
   ]
  },
  {
   "cell_type": "markdown",
   "id": "bf26ac3a-d892-4ca9-92b8-4baf34488676",
   "metadata": {},
   "source": [
    "Plot slice of the image:"
   ]
  },
  {
   "cell_type": "code",
   "execution_count": null,
   "id": "a5e93ba4-877e-422c-b077-59959fe5bcca",
   "metadata": {},
   "outputs": [],
   "source": [
    "plt.figure(figsize=(8,8))\n",
    "plt.pcolormesh(img[178], cmap='Greys_r')"
   ]
  },
  {
   "cell_type": "markdown",
   "id": "a0ebc8ca-7799-4da2-a265-702ed735d679",
   "metadata": {},
   "source": [
    "What do these units mean? The pixel values of this CT scan are expressed in Hounsfield Units\n",
    "\n",
    "$$HU(x,y) \\equiv 1000 \\cdot \\frac{\\mu(x,y) - \\mu_{\\text{water}}}{\\mu_{\\text{water}}-\\mu_\\text{air}}$$\n",
    "\n",
    "where $\\mu$ is the linear attenuation coefficient of the material. The linear attenuation coefficient is defined based on how the intensity of a photon beam decays as it passes a distance $x$ through a material $I=I_0e^{-\\mu x}$. Note that $\\mu$ depends on the energy of the photon beam, and in a CT scan photons usually have energies $\\approx 100$keV. Here are typical HU values:"
   ]
  },
  {
   "cell_type": "markdown",
   "id": "c14534de-aae0-4de7-a326-8cdb0d04b593",
   "metadata": {},
   "source": [
    "# Modify data"
   ]
  },
  {
   "cell_type": "markdown",
   "id": "14d346f9-c1a7-48f9-bec8-844241b6bed0",
   "metadata": {},
   "source": [
    "The first thing to note is that air is signifcantly less HU than other substances in the body, so we apply a so-called \"threshhold\" mask. Lets use -320 HU as the lower limit:"
   ]
  },
  {
   "cell_type": "code",
   "execution_count": null,
   "id": "a7f46deb-4afc-4fd7-93e4-6928d7b30a88",
   "metadata": {},
   "outputs": [],
   "source": [
    "mask = img < -320"
   ]
  },
  {
   "cell_type": "markdown",
   "id": "018bba05-282c-4c99-875e-8edaa7d44524",
   "metadata": {},
   "source": [
    "Plot the mask"
   ]
  },
  {
   "cell_type": "code",
   "execution_count": null,
   "id": "3a859084-0e3a-41db-b7ca-6d17386b426e",
   "metadata": {},
   "outputs": [],
   "source": [
    "plt.pcolormesh(mask[180])"
   ]
  },
  {
   "cell_type": "markdown",
   "id": "2486c8ea-04ba-4553-a95c-c4a296b3be61",
   "metadata": {},
   "source": [
    "Next we can use the `clear_border` function to remove the outer border:"
   ]
  },
  {
   "cell_type": "code",
   "execution_count": null,
   "id": "866a764f-4264-4991-93ab-56c1a1ac6dbb",
   "metadata": {},
   "outputs": [],
   "source": [
    "mask.shape"
   ]
  },
  {
   "cell_type": "code",
   "execution_count": null,
   "id": "64f3377b-e31b-4bac-a804-d44a98dcfe1c",
   "metadata": {},
   "outputs": [],
   "source": [
    "mask = np.vectorize(clear_border, signature='(n,m)->(n,m)')(mask)\n",
    "plt.pcolormesh(mask[170])"
   ]
  },
  {
   "cell_type": "markdown",
   "id": "2b613692-d32c-4920-a00c-3ef44fd6508e",
   "metadata": {},
   "source": [
    "Now we'll give each seperate volume a different integer value using the `label` function"
   ]
  },
  {
   "cell_type": "code",
   "execution_count": null,
   "id": "20c5ce9a-dea5-47cd-8b94-2857128ee5ec",
   "metadata": {},
   "outputs": [],
   "source": [
    "mask.shape"
   ]
  },
  {
   "cell_type": "code",
   "execution_count": null,
   "id": "6c01f6c1-5bdf-4e27-bd01-076acfa62b93",
   "metadata": {},
   "outputs": [],
   "source": [
    "mask_labeled = np.vectorize(label, signature='(n,m)->(n,m)')(mask)\n",
    "plt.pcolormesh(mask_labeled[170])\n",
    "plt.colorbar()"
   ]
  },
  {
   "cell_type": "markdown",
   "id": "a8751375-3eea-406c-b1ba-c5f41f953f8f",
   "metadata": {},
   "source": [
    "Now for something a little non-intuitive. We want to keep the three largest areas for each slice of the image. Why would we want to do this if we only want to keep the two lungs?\n",
    "\n",
    "* In some slices one of the lungs could be larger than the table\n",
    "* In some slices one of the lungs could be smaller than the table\n",
    "\n",
    "If we only take the largest two slices, we might end up taking the table and one of the lungs. So for now lets take the top 3. The function below is designed to operate on a single slice of the 3D image:"
   ]
  },
  {
   "cell_type": "code",
   "execution_count": null,
   "id": "21dcdae6-4156-4142-8739-559d7b176a13",
   "metadata": {},
   "outputs": [],
   "source": [
    "slc = mask_labeled[170]"
   ]
  },
  {
   "cell_type": "code",
   "execution_count": null,
   "id": "30a71db1-8761-4f5c-9f17-c570cf3e99a1",
   "metadata": {},
   "outputs": [],
   "source": [
    "rps = regionprops(slc)"
   ]
  },
  {
   "cell_type": "code",
   "execution_count": null,
   "id": "7c8873d8-bf3a-4182-9ad0-3afbbedf1bae",
   "metadata": {},
   "outputs": [],
   "source": [
    "areas = [r.area for r in rps]"
   ]
  },
  {
   "cell_type": "code",
   "execution_count": null,
   "id": "b5061ad8-f4b1-4582-8f8d-96ee3842c841",
   "metadata": {},
   "outputs": [],
   "source": [
    "areas"
   ]
  },
  {
   "cell_type": "code",
   "execution_count": null,
   "id": "10dafe17-c1c4-4d97-a95d-8e2e49e6557d",
   "metadata": {},
   "outputs": [],
   "source": [
    "np.argsort(areas)[::-1]"
   ]
  },
  {
   "cell_type": "code",
   "execution_count": null,
   "id": "41416237-62de-4d6e-a33f-d13c2d4704ec",
   "metadata": {},
   "outputs": [],
   "source": [
    "slc = mask_labeled[170]\n",
    "rps = regionprops(slc)\n",
    "areas = [r.area for r in rps]\n",
    "idxs = np.argsort(areas)[::-1] # we want largest to smallest"
   ]
  },
  {
   "cell_type": "markdown",
   "id": "ee624bab-de1c-465f-89fb-60a0a6c998cb",
   "metadata": {},
   "source": [
    "Only consider the 3 largest areas (iterating theough `idxs`). Add these areas to a new slice called `new_slc`:"
   ]
  },
  {
   "cell_type": "code",
   "execution_count": null,
   "id": "6464ef0a-c3c4-42a2-9fcb-f428e2d0911a",
   "metadata": {},
   "outputs": [],
   "source": [
    "new_slc = np.zeros_like(slc)"
   ]
  },
  {
   "cell_type": "code",
   "execution_count": null,
   "id": "240c8339-6f02-4ae3-bd15-b3ee721e02f8",
   "metadata": {},
   "outputs": [],
   "source": [
    "new_slc = np.zeros_like(slc)\n",
    "for i in idxs[:3]:\n",
    "    new_slc[tuple(rps[i].coords.T)] = i+1"
   ]
  },
  {
   "cell_type": "markdown",
   "id": "e3a3f667-42e7-4e90-8841-aebf839b99d7",
   "metadata": {},
   "source": [
    "Plot "
   ]
  },
  {
   "cell_type": "code",
   "execution_count": null,
   "id": "eb0a60d2-a3a9-4702-b4c0-e86280afc39e",
   "metadata": {},
   "outputs": [],
   "source": [
    "plt.pcolormesh(new_slc)"
   ]
  },
  {
   "cell_type": "markdown",
   "id": "7a5c1f21-5d90-4ba6-a635-122efe68cece",
   "metadata": {},
   "source": [
    "Now lets automate this for all slices in our 3D image:"
   ]
  },
  {
   "cell_type": "code",
   "execution_count": null,
   "id": "2ce87b57-5848-48dd-a1ba-a4a050d792ec",
   "metadata": {},
   "outputs": [],
   "source": [
    "def keep_top_3(slc):\n",
    "    new_slc = np.zeros_like(slc)\n",
    "    rps = regionprops(slc)\n",
    "    areas = [r.area for r in rps]\n",
    "    idxs = np.argsort(areas)[::-1]\n",
    "    for i in idxs[:3]:\n",
    "        new_slc[tuple(rps[i].coords.T)] = i+1\n",
    "    return new_slc"
   ]
  },
  {
   "cell_type": "code",
   "execution_count": null,
   "id": "f470f4fc-85bc-4100-ad13-8122529bc274",
   "metadata": {},
   "outputs": [],
   "source": [
    "mask_labeled = np.vectorize(keep_top_3, signature='(n,m)->(n,m)')(mask_labeled)"
   ]
  },
  {
   "cell_type": "code",
   "execution_count": null,
   "id": "561e1549-a16c-4357-b8bf-d40935f2bf80",
   "metadata": {},
   "outputs": [],
   "source": [
    "plt.pcolormesh(mask_labeled[165])"
   ]
  },
  {
   "cell_type": "markdown",
   "id": "4a6c8fca-009f-4e2d-879f-cb5240d6b344",
   "metadata": {},
   "source": [
    "Now lets fill in any small holes in the lungs:"
   ]
  },
  {
   "cell_type": "code",
   "execution_count": null,
   "id": "1f1e1501-af63-4777-89d6-2ab75a994f8b",
   "metadata": {},
   "outputs": [],
   "source": [
    "mask = mask_labeled > 0"
   ]
  },
  {
   "cell_type": "code",
   "execution_count": null,
   "id": "25a27fe5-e8f1-4a39-8201-0bf5672e3cd5",
   "metadata": {},
   "outputs": [],
   "source": [
    "mask.shape"
   ]
  },
  {
   "cell_type": "code",
   "execution_count": null,
   "id": "f5134f18-58fe-4fff-bbb1-e31deda55426",
   "metadata": {},
   "outputs": [],
   "source": [
    "mask.shape"
   ]
  },
  {
   "cell_type": "code",
   "execution_count": null,
   "id": "1caf7efe-5ae7-4a5b-906c-8f582750f4a4",
   "metadata": {},
   "outputs": [],
   "source": [
    "mask = mask_labeled > 0\n",
    "mask = np.vectorize(ndi.binary_fill_holes, signature='(n,m)->(n,m)')(mask)"
   ]
  },
  {
   "cell_type": "code",
   "execution_count": null,
   "id": "6f8e1afd-e30f-43f3-9e86-9d2e7f4f93cd",
   "metadata": {},
   "outputs": [],
   "source": [
    "plt.pcolormesh(mask[170])"
   ]
  },
  {
   "cell_type": "markdown",
   "id": "a4cd60b8-eeb2-461b-bda3-195294105315",
   "metadata": {},
   "source": [
    "In some slices, the trachea is kind of annoying and we need to remove it:"
   ]
  },
  {
   "cell_type": "code",
   "execution_count": null,
   "id": "b57aa500-d2e5-4ebd-985a-4b621a133c58",
   "metadata": {},
   "outputs": [],
   "source": [
    "plt.pcolormesh(mask[-50])"
   ]
  },
  {
   "cell_type": "markdown",
   "id": "39bcf197-927c-4d53-87cc-04aeca6bfd18",
   "metadata": {},
   "source": [
    "In a 512x512 image, the trachea typically takes up less than 0.69% of the area. We can delete all regions that have any area smaller than this percentage:"
   ]
  },
  {
   "cell_type": "code",
   "execution_count": null,
   "id": "d90afb8f-3c84-4cd8-908e-3594ce57acb9",
   "metadata": {},
   "outputs": [],
   "source": [
    "mask[-50]"
   ]
  },
  {
   "cell_type": "code",
   "execution_count": null,
   "id": "3aa38eb2-5abd-4873-8321-203b89d3008d",
   "metadata": {},
   "outputs": [],
   "source": [
    "labels = label(mask[-50],connectivity=1,background=0)"
   ]
  },
  {
   "cell_type": "code",
   "execution_count": null,
   "id": "54e9fee6-9f95-48ab-8171-b413e221a2ef",
   "metadata": {},
   "outputs": [],
   "source": [
    "plt.pcolormesh(labels)"
   ]
  },
  {
   "cell_type": "code",
   "execution_count": null,
   "id": "aecf24b2-e643-4d8f-baf0-1e43c9d336f3",
   "metadata": {},
   "outputs": [],
   "source": [
    "rps = regionprops(labels)"
   ]
  },
  {
   "cell_type": "code",
   "execution_count": null,
   "id": "d94406da-6d50-4f10-8d6e-21f2140a8954",
   "metadata": {},
   "outputs": [],
   "source": [
    "rps"
   ]
  },
  {
   "cell_type": "code",
   "execution_count": null,
   "id": "1fb4f511-25ef-488d-8c98-a362252b2b16",
   "metadata": {},
   "outputs": [],
   "source": [
    "areas = np.array([r.area for r in rps])"
   ]
  },
  {
   "cell_type": "code",
   "execution_count": null,
   "id": "48cd77b6-4f59-42df-8c86-0df992c6486e",
   "metadata": {},
   "outputs": [],
   "source": [
    "areas"
   ]
  },
  {
   "cell_type": "code",
   "execution_count": null,
   "id": "f1d36484-2a34-4402-a4cb-1baa3da96aee",
   "metadata": {},
   "outputs": [],
   "source": [
    "np.where(areas/512**2 < 0.0069)"
   ]
  },
  {
   "cell_type": "code",
   "execution_count": null,
   "id": "6e9e8cd0-b39a-4119-bb21-807b75df364d",
   "metadata": {},
   "outputs": [],
   "source": [
    "def remove_trachea(slc, c=0.0069):\n",
    "    new_slc = slc.copy()\n",
    "    labels = label(slc,connectivity=1,background=0)\n",
    "    rps = regionprops(labels)\n",
    "    areas = np.array([r.area for r in rps])\n",
    "    idxs = np.where(areas/512**2 < c)[0]\n",
    "    for i in idxs:\n",
    "        new_slc[tuple(rps[i].coords.T)] = 0\n",
    "    return new_slc"
   ]
  },
  {
   "cell_type": "code",
   "execution_count": null,
   "id": "9c17f0a1-2836-41d7-b6b9-eb13f7978229",
   "metadata": {},
   "outputs": [],
   "source": [
    "mask = np.vectorize(remove_trachea, signature='(n,m)->(n,m)')(mask)"
   ]
  },
  {
   "cell_type": "markdown",
   "id": "4df1c278-c60e-412b-87df-84d28208b0ff",
   "metadata": {},
   "source": [
    "Now the trachea is removed in the slice we were considering:"
   ]
  },
  {
   "cell_type": "code",
   "execution_count": null,
   "id": "e8608e94-555d-487c-beee-5e73073247ac",
   "metadata": {},
   "outputs": [],
   "source": [
    "plt.pcolormesh(mask[170])"
   ]
  },
  {
   "cell_type": "markdown",
   "id": "3a17c3cc-f857-4df9-aed1-c50508cf9ded",
   "metadata": {},
   "source": [
    "Finally, its time to remove the table. Note that the center of mass of the table is always lower than the two lungs. As such, we simply need to delete the volume with the lowest center of mass in $y$ to delete the table:"
   ]
  },
  {
   "cell_type": "code",
   "execution_count": null,
   "id": "d075c171-95bc-4e41-b9af-5483ce46982d",
   "metadata": {},
   "outputs": [],
   "source": [
    "labels = label(mask[170], background=0)"
   ]
  },
  {
   "cell_type": "markdown",
   "id": "3c5768d1-53e0-40e9-9b2f-923e8ba95d2f",
   "metadata": {},
   "source": [
    "Plot a slice of the labels with the masks:"
   ]
  },
  {
   "cell_type": "code",
   "execution_count": null,
   "id": "95a74cc9-6341-45bf-8d50-d6c5b55b5be3",
   "metadata": {},
   "outputs": [],
   "source": [
    "plt.pcolormesh(labels)\n",
    "plt.colorbar()"
   ]
  },
  {
   "cell_type": "markdown",
   "id": "e8b53c8a-622f-426a-95c2-5dfdc80e1f4c",
   "metadata": {},
   "source": [
    "Compute the center of masses in this slice:"
   ]
  },
  {
   "cell_type": "code",
   "execution_count": null,
   "id": "b1d27d03-f3a9-4fdd-b083-523655e5c59b",
   "metadata": {},
   "outputs": [],
   "source": [
    "center_of_mass(labels==3)[0]"
   ]
  },
  {
   "cell_type": "code",
   "execution_count": null,
   "id": "2aa6d526-fe2d-49e9-9f9d-484ae8425dd4",
   "metadata": {},
   "outputs": [],
   "source": [
    "def delete_table(slc):\n",
    "    new_slc = slc.copy()\n",
    "    labels = label(slc, background=0)\n",
    "    idxs = np.unique(labels)[1:]\n",
    "    COM_ys = np.array([center_of_mass(labels==i)[0] for i in idxs])\n",
    "    for idx, COM_y in zip(idxs, COM_ys):\n",
    "        if (COM_y < 0.3*slc.shape[0]):\n",
    "            new_slc[labels==idx] = 0\n",
    "        elif (COM_y > 0.6*slc.shape[0]):\n",
    "            new_slc[labels==idx] = 0\n",
    "    return new_slc"
   ]
  },
  {
   "cell_type": "code",
   "execution_count": null,
   "id": "8d82a895-2131-4979-8746-b67b470ad6cc",
   "metadata": {},
   "outputs": [],
   "source": [
    "mask_new = np.vectorize(delete_table, signature='(n,m)->(n,m)')(mask)"
   ]
  },
  {
   "cell_type": "code",
   "execution_count": null,
   "id": "837cda11-f359-4a4e-8f5b-6910e555a11b",
   "metadata": {},
   "outputs": [],
   "source": [
    "plt.pcolormesh(mask_new[167])"
   ]
  },
  {
   "cell_type": "markdown",
   "id": "0fa28812-c67c-486e-a247-3ff399fb25a4",
   "metadata": {},
   "source": [
    "Finally, we can expand the area of the lungs a little bit by growing the border. For this, we can use the `binary_dilation` function:"
   ]
  },
  {
   "cell_type": "code",
   "execution_count": null,
   "id": "b4701994-4e98-440e-a685-f5fff1fb884f",
   "metadata": {},
   "outputs": [],
   "source": [
    "mask_new = binary_dilation(mask_new, iterations=5)"
   ]
  },
  {
   "cell_type": "code",
   "execution_count": null,
   "id": "a672915c-5329-45b5-8fb2-e41c8f4a2ae0",
   "metadata": {},
   "outputs": [],
   "source": [
    "plt.figure(figsize=(8,8))\n",
    "plt.pcolormesh(mask_new[170], cmap='brg')"
   ]
  },
  {
   "cell_type": "markdown",
   "id": "ac90c8c4-8376-4b14-a1a1-dac963cf571d",
   "metadata": {},
   "source": [
    "Lets plot the full 3D image in plotly and create an interactive plot:\n",
    "\n",
    "* First decrease the resolution a little bit:"
   ]
  },
  {
   "cell_type": "code",
   "execution_count": null,
   "id": "edc9287b-d6d6-4044-a835-c6a51f6bffcd",
   "metadata": {},
   "outputs": [],
   "source": [
    "im = zoom(1*(mask_new), (0.4,0.4,0.4))"
   ]
  },
  {
   "cell_type": "markdown",
   "id": "59068206-166a-4374-84dc-6a1cb2546639",
   "metadata": {},
   "source": [
    "Get arrays of $x$, $y$, and $z$. In a CT scan, the difference between pixels in the z direction is about 4 times bigger than in the $x$ and $y$ directions:"
   ]
  },
  {
   "cell_type": "code",
   "execution_count": null,
   "id": "63de56bf-4a08-43c9-8c06-9e002054fc93",
   "metadata": {},
   "outputs": [],
   "source": [
    "z, y, x = [np.arange(i) for i in im.shape]\n",
    "z*=4"
   ]
  },
  {
   "cell_type": "markdown",
   "id": "dd4fd8b0-1f52-482d-b8cf-b1b118fa01dd",
   "metadata": {},
   "source": [
    "Create a meshgrid:"
   ]
  },
  {
   "cell_type": "code",
   "execution_count": null,
   "id": "f59640b3-f160-430c-9470-2b73e74d7218",
   "metadata": {},
   "outputs": [],
   "source": [
    "X,Y,Z = np.meshgrid(x,y,z, indexing='ij')"
   ]
  },
  {
   "cell_type": "markdown",
   "id": "431874bf-aee1-43e3-8066-b5b51d92ab83",
   "metadata": {},
   "source": [
    "Create a 3D plotly plot"
   ]
  },
  {
   "cell_type": "code",
   "execution_count": null,
   "id": "0d6e37b0-76c5-48c8-ac8b-3a4e292b63cc",
   "metadata": {},
   "outputs": [],
   "source": [
    "fig = go.Figure(data=go.Volume(\n",
    "    x=X.flatten(),\n",
    "    y=Y.flatten(),\n",
    "    z=Z.flatten(),\n",
    "    value=np.transpose(im,(1,2,0)).flatten(),\n",
    "    isomin=0.1,\n",
    "    opacity=0.1, # needs to be small to see through all surfaces\n",
    "    surface_count=17, # needs to be a large number for good volume rendering\n",
    "    ))\n",
    "fig.write_html(\"test.html\")"
   ]
  },
  {
   "cell_type": "code",
   "execution_count": null,
   "id": "9a53f02d-e859-4353-a012-db4b1cd119ee",
   "metadata": {},
   "outputs": [],
   "source": [
    "img_new = mask_new * img"
   ]
  },
  {
   "cell_type": "code",
   "execution_count": null,
   "id": "e0ec2470-121d-464f-9952-3630c1d90327",
   "metadata": {},
   "outputs": [],
   "source": [
    "plt.pcolormesh(img_new[170])"
   ]
  },
  {
   "cell_type": "code",
   "execution_count": null,
   "id": "a143c924-3697-44fc-a419-ee21f9848dd3",
   "metadata": {},
   "outputs": [],
   "source": []
  }
 ],
 "metadata": {
  "kernelspec": {
   "display_name": "base",
   "language": "python",
   "name": "python3"
  },
  "language_info": {
   "codemirror_mode": {
    "name": "ipython",
    "version": 3
   },
   "file_extension": ".py",
   "mimetype": "text/x-python",
   "name": "python",
   "nbconvert_exporter": "python",
   "pygments_lexer": "ipython3",
   "version": "3.10.13"
  }
 },
 "nbformat": 4,
 "nbformat_minor": 5
}
