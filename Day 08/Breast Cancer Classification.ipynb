{
  "cells": [
    {
      "cell_type": "markdown",
      "metadata": {
        "colab_type": "text",
        "id": "view-in-github"
      },
      "source": [
        "<a href=\"https://colab.research.google.com/github/edaaydinea/machine-learning/blob/master/Breast%20Cancer%20Classification/%20Breast_Cancer_Classification.ipynb\" target=\"_parent\"><img src=\"https://colab.research.google.com/assets/colab-badge.svg\" alt=\"Open In Colab\"/></a>"
      ]
    },
    {
      "cell_type": "markdown",
      "metadata": {
        "colab_type": "text",
        "id": "sd8cnAbVbl4K"
      },
      "source": [
        "Day 08 - AIWC\n",
        "\n",
        "# **Breast Cancer Classification using Machine Learning**\n",
        "\n",
        "Breast cancer is the most common cancer among women worldwide, accounting for **25% of all cancer cases** and affecting **2.1 million people in 2015**. Early diagnosis significantly increases the chances of survival.\n",
        "\n",
        "## **Challenges in Breast Cancer Detection**\n",
        "The primary challenge in cancer detection is classifying tumors as **malignant** (cancerous) or **benign** (non-cancerous). Machine learning techniques can dramatically enhance diagnostic accuracy.\n",
        "\n",
        "Research indicates that even experienced physicians achieve **79% accuracy** in cancer diagnosis. By leveraging machine learning, we can improve classification accuracy and assist doctors in making more precise decisions.\n",
        "\n",
        "---\n",
        "\n",
        "## **Stages of Cancer Detection**\n",
        "\n",
        "### **First Stage: Cell Extraction**\n",
        "This process involves extracting a small sample of cells from the tumor for analysis.\n",
        "\n",
        "- **Benign tumors** – These do not spread across the body, meaning the patient is generally safe.\n",
        "- **Malignant tumors** – These are cancerous and require immediate medical intervention to prevent further growth and spread.\n",
        "\n",
        "---\n",
        "\n",
        "## **Machine Learning for Breast Cancer Classification**\n",
        "\n",
        "### **Objective**\n",
        "Our goal is to train a machine learning model to classify breast cancer tumors as **malignant or benign** based on extracted features from medical images.\n",
        "\n",
        "### **Process**\n",
        "1. **Image Processing:** Extract images of tumors.\n",
        "2. **Feature Extraction:** Identify key characteristics from the images, such as:\n",
        "   - **Radius**\n",
        "   - **Cell count**\n",
        "   - **Texture**\n",
        "   - **Perimeter**\n",
        "   - **Area**\n",
        "   - **Smoothness**\n",
        "3. **Model Training:** Feed these extracted features into a machine learning model.\n",
        "4. **Prediction:** The trained model classifies tumors as **malignant or benign** with high accuracy.\n",
        "\n",
        "### **Conclusion**\n",
        "By teaching machines to classify tumors effectively, we enhance early detection, improving patient outcomes and supporting medical professionals in making better-informed decisions."
      ]
    },
    {
      "cell_type": "markdown",
      "metadata": {
        "colab_type": "text",
        "id": "TZ_hcGZHfIgD"
      },
      "source": [
        "# **Problem in Machine Learning Vocabulary**\n",
        "\n",
        "## **Dataset Overview**\n",
        "### **Input Features:** (30 Features)\n",
        "- **Radius**\n",
        "- **Texture**\n",
        "- **Perimeter**\n",
        "- **Area**\n",
        "- **Smoothness**\n",
        "- *(...other features included in the dataset)*\n",
        "\n",
        "### **Target Classes:** (Binary Classification)\n",
        "- **0 - Malignant (Cancerous)**\n",
        "- **1 - Benign (Non-cancerous)**\n",
        "\n",
        "### **Dataset Information**\n",
        "- **Number of Instances:** 569\n",
        "- **Class Distribution:**\n",
        "  - **Malignant:** 212 cases\n",
        "  - **Benign:** 357 cases\n",
        "\n",
        "### **Data Sources:**\n",
        "- [Breast Cancer Wisconsin (Diagnostic)](https://archive.ics.uci.edu/ml/datasets/Breast+Cancer+Wisconsin+(Diagnostic))\n",
        "- [Breast Cancer Detection with Reduced Feature Set](https://www.researchgate.net/publication/271907638_Breast_Cancer_Detection_with_Reduced_Feature_Set)\n",
        "\n",
        "---\n",
        "\n",
        "## **Binary Classification Representation**\n",
        "When analyzing the **30 features**, our goal is to classify the cancer type:\n",
        "- **0 → Malignant**\n",
        "- **1 → Benign**\n",
        "\n",
        "This is a **binary classification problem**, meaning the model predicts **either 0 or 1**, corresponding to malignant or benign tumors.\n",
        "\n",
        "---\n",
        "\n",
        "# **Support Vector Machine (SVM) Classifier**\n",
        "### **Why Use SVM?**\n",
        "Near the **maximum margin hyperplane**, it can be difficult to determine whether a tumor is malignant or benign. This is where **Support Vector Machines (SVMs)** are highly effective.\n",
        "\n",
        "### **How Does SVM Work?**\n",
        "- SVM finds the **optimal boundary** between classes by using **support vectors**—the most relevant data points that define the decision boundary.\n",
        "- It creates a **maximum margin hyperplane** that separates malignant and benign tumors.\n",
        "- **Support vectors** are the key points that lie closest to the decision boundary and influence its position.\n",
        "\n",
        "### **Why is SVM Powerful?**\n",
        "- SVM is an **extreme learning algorithm** that **focuses only on critical data points** (support vectors).\n",
        "- It does not consider all data points but **only those on the boundary**, making it highly effective in classification tasks.\n",
        "\n",
        "---\n",
        "\n",
        "## **Conclusion**\n",
        "Using **Support Vector Machines (SVMs)**, we can classify breast cancer cases more effectively by focusing on the **key features** and **critical boundary points**, leading to **higher accuracy in distinguishing malignant and benign tumors**."
      ]
    },
    {
      "cell_type": "markdown",
      "metadata": {
        "colab_type": "text",
        "id": "auLq9-0xpR_W"
      },
      "source": [
        "### **IMPORTING DATA**"
      ]
    },
    {
      "cell_type": "code",
      "execution_count": null,
      "metadata": {
        "colab": {},
        "colab_type": "code",
        "id": "Hs1sjfIdbfqd"
      },
      "outputs": [],
      "source": [
        "# import libraries \n",
        "import pandas as pd # Import Pandas for data manipulation using dataframes\n",
        "import numpy as np # Import Numpy for data statistical analysis \n",
        "import matplotlib.pyplot as plt # Import matplotlib for data visualisation\n",
        "import seaborn as sns # Statistical data visualization\n",
        "# %matplotlib inline"
      ]
    },
    {
      "cell_type": "code",
      "execution_count": null,
      "metadata": {
        "colab": {},
        "colab_type": "code",
        "id": "8bc3kKRRPbmp"
      },
      "outputs": [],
      "source": [
        "# Import Cancer data drom the Sklearn library\n",
        "from sklearn.datasets import load_breast_cancer\n",
        "cancer = load_breast_cancer()"
      ]
    },
    {
      "cell_type": "code",
      "execution_count": null,
      "metadata": {
        "colab": {
          "base_uri": "https://localhost:8080/",
          "height": 910
        },
        "colab_type": "code",
        "id": "2V5vrtHmPs5O",
        "outputId": "fef13764-8c6f-4d5f-f66f-75ef35990266"
      },
      "outputs": [],
      "source": [
        "cancer"
      ]
    },
    {
      "cell_type": "code",
      "execution_count": null,
      "metadata": {
        "colab": {
          "base_uri": "https://localhost:8080/",
          "height": 34
        },
        "colab_type": "code",
        "id": "sNmfbi4lPxs7",
        "outputId": "7eb7dc95-d873-4e13-e90f-6041b5e29b60"
      },
      "outputs": [],
      "source": [
        "# What dictionaries we have\n",
        "cancer.keys()"
      ]
    },
    {
      "cell_type": "code",
      "execution_count": null,
      "metadata": {
        "colab": {
          "base_uri": "https://localhost:8080/",
          "height": 1000
        },
        "colab_type": "code",
        "id": "2fJo6349P67j",
        "outputId": "96b86d61-ebe2-47c2-aa69-f66f5a63c452"
      },
      "outputs": [],
      "source": [
        "# print them one by one\n",
        "print(cancer['DESCR'])"
      ]
    },
    {
      "cell_type": "code",
      "execution_count": null,
      "metadata": {
        "colab": {
          "base_uri": "https://localhost:8080/",
          "height": 286
        },
        "colab_type": "code",
        "id": "052LJWQSQH6P",
        "outputId": "f89d7163-5f51-4b9b-bfda-5b9299af5b0f"
      },
      "outputs": [],
      "source": [
        "print(cancer['target'])"
      ]
    },
    {
      "cell_type": "code",
      "execution_count": null,
      "metadata": {
        "colab": {
          "base_uri": "https://localhost:8080/",
          "height": 34
        },
        "colab_type": "code",
        "id": "f6Y76UNMQPgH",
        "outputId": "d3680243-d110-449d-c020-5d9ea2e3882d"
      },
      "outputs": [],
      "source": [
        "print(cancer['target_names'])"
      ]
    },
    {
      "cell_type": "code",
      "execution_count": null,
      "metadata": {
        "colab": {
          "base_uri": "https://localhost:8080/",
          "height": 168
        },
        "colab_type": "code",
        "id": "PDkcPh4TQUye",
        "outputId": "75ebb6aa-bba8-4a5b-da2d-2dc115dc9680"
      },
      "outputs": [],
      "source": [
        "print(cancer['feature_names'])"
      ]
    },
    {
      "cell_type": "code",
      "execution_count": null,
      "metadata": {
        "colab": {
          "base_uri": "https://localhost:8080/",
          "height": 134
        },
        "colab_type": "code",
        "id": "Szz0uwwvQpOO",
        "outputId": "63dd5b4e-bb46-405d-c806-b284824339ec"
      },
      "outputs": [],
      "source": [
        "print(cancer['data'])"
      ]
    },
    {
      "cell_type": "code",
      "execution_count": null,
      "metadata": {
        "colab": {
          "base_uri": "https://localhost:8080/",
          "height": 34
        },
        "colab_type": "code",
        "id": "OHLelc_LQX5a",
        "outputId": "594e8ea4-e323-45db-c5c8-cef85855b5c6"
      },
      "outputs": [],
      "source": [
        "cancer['data'].shape"
      ]
    },
    {
      "cell_type": "code",
      "execution_count": null,
      "metadata": {
        "colab": {},
        "colab_type": "code",
        "id": "i4fm1mm8Qb16"
      },
      "outputs": [],
      "source": [
        "df_cancer = pd.DataFrame(np.c_[cancer['data'], cancer['target']], columns = np.append(cancer['feature_names'], ['target']))"
      ]
    },
    {
      "cell_type": "code",
      "execution_count": null,
      "metadata": {
        "colab": {
          "base_uri": "https://localhost:8080/",
          "height": 249
        },
        "colab_type": "code",
        "id": "qu2jksqPQ3yC",
        "outputId": "c12c87fb-27a2-458d-d170-65a4b89dde2b"
      },
      "outputs": [],
      "source": [
        "df_cancer.head(5)"
      ]
    },
    {
      "cell_type": "code",
      "execution_count": null,
      "metadata": {
        "colab": {
          "base_uri": "https://localhost:8080/",
          "height": 249
        },
        "colab_type": "code",
        "id": "70TjIu9xRD3Q",
        "outputId": "e66d8a15-8133-4d04-9fa0-a7a9d52d3619"
      },
      "outputs": [],
      "source": [
        "df_cancer.tail(5)"
      ]
    },
    {
      "cell_type": "markdown",
      "metadata": {
        "colab_type": "text",
        "id": "Z63hBIdNRWWn"
      },
      "source": [
        "### **VISUALIZING THE DATA**"
      ]
    },
    {
      "cell_type": "code",
      "execution_count": null,
      "metadata": {
        "colab": {
          "base_uri": "https://localhost:8080/",
          "height": 922
        },
        "colab_type": "code",
        "id": "dozFzAx0RbSV",
        "outputId": "93e2d103-a74b-41ba-bcc7-8a21a925efd7"
      },
      "outputs": [],
      "source": [
        "sns.pairplot(df_cancer,vars= ['mean radius','mean texture', 'mean area', 'mean perimeter', 'mean smoothness'])"
      ]
    },
    {
      "cell_type": "markdown",
      "metadata": {
        "colab_type": "text",
        "id": "q3-ScRYCSYST"
      },
      "source": [
        "But the only problem is that doesn't show the target class. It doesn't show actual which one of these samples is malignant or which one of them is benign."
      ]
    },
    {
      "cell_type": "code",
      "execution_count": null,
      "metadata": {
        "colab": {
          "base_uri": "https://localhost:8080/",
          "height": 922
        },
        "colab_type": "code",
        "id": "qXZ__3b9R-Yt",
        "outputId": "101ddbef-01c1-4ab7-e912-e7535879bbbf"
      },
      "outputs": [],
      "source": [
        "sns.pairplot(df_cancer,hue = 'target', vars= ['mean radius','mean texture', 'mean area', 'mean perimeter', 'mean smoothness'])"
      ]
    },
    {
      "cell_type": "markdown",
      "metadata": {
        "colab_type": "text",
        "id": "ZPGHjGziTJs-"
      },
      "source": [
        "The blue points in here that's the malignant case. The orange points in here that's the benign case."
      ]
    },
    {
      "cell_type": "code",
      "execution_count": null,
      "metadata": {
        "colab": {
          "base_uri": "https://localhost:8080/",
          "height": 296
        },
        "colab_type": "code",
        "id": "5kvkV0OhTZ6x",
        "outputId": "43d6aaa2-ff87-473e-c83b-6b5d24e2a5f0"
      },
      "outputs": [],
      "source": [
        "sns.countplot(df_cancer['target'])"
      ]
    },
    {
      "cell_type": "markdown",
      "metadata": {
        "colab_type": "text",
        "id": "EhG3x6iJUcKG"
      },
      "source": [
        "We take one of these slide graphs and see how can we play."
      ]
    },
    {
      "cell_type": "code",
      "execution_count": null,
      "metadata": {
        "colab": {
          "base_uri": "https://localhost:8080/",
          "height": 296
        },
        "colab_type": "code",
        "id": "ImpGq1ufT2Gb",
        "outputId": "8d295074-b355-4c29-f680-fcf1647c8907"
      },
      "outputs": [],
      "source": [
        "sns.scatterplot(x='mean area', y='mean smoothness', hue='target', data=df_cancer)"
      ]
    },
    {
      "cell_type": "markdown",
      "metadata": {
        "colab_type": "text",
        "id": "nESY9TU1UKWl"
      },
      "source": [
        "Let's check the correlation between the variables"
      ]
    },
    {
      "cell_type": "code",
      "execution_count": null,
      "metadata": {
        "colab": {
          "base_uri": "https://localhost:8080/",
          "height": 717
        },
        "colab_type": "code",
        "id": "EavEcSa9UKC6",
        "outputId": "6161be44-cdf3-43df-f63a-1d3a6e7dac5b"
      },
      "outputs": [],
      "source": [
        "plt.figure(figsize=(20,10))\n",
        "sns.heatmap(df_cancer.corr(), annot=True)"
      ]
    },
    {
      "cell_type": "markdown",
      "metadata": {
        "colab_type": "text",
        "id": "SZuTzGfwVGhu"
      },
      "source": [
        "### **MODEL TRAINING (FINDING A PROBLEM SOLUTION)**"
      ]
    },
    {
      "cell_type": "code",
      "execution_count": null,
      "metadata": {
        "colab": {},
        "colab_type": "code",
        "id": "NlmnQIpzVLsr"
      },
      "outputs": [],
      "source": [
        "# Let's drop the target label coloumns\n",
        "x = df_cancer.drop(['target'],axis=1)"
      ]
    },
    {
      "cell_type": "code",
      "execution_count": null,
      "metadata": {
        "colab": {
          "base_uri": "https://localhost:8080/",
          "height": 455
        },
        "colab_type": "code",
        "id": "4rTws0siVf6B",
        "outputId": "8d38930a-3703-4dd5-c391-d0909704c4fe"
      },
      "outputs": [],
      "source": [
        "x"
      ]
    },
    {
      "cell_type": "code",
      "execution_count": null,
      "metadata": {
        "colab": {
          "base_uri": "https://localhost:8080/",
          "height": 218
        },
        "colab_type": "code",
        "id": "wqM8s37GVmC3",
        "outputId": "86d3fde5-ec6a-46b5-b366-09e92c112fd0"
      },
      "outputs": [],
      "source": [
        "y = df_cancer['target']\n",
        "y"
      ]
    },
    {
      "cell_type": "markdown",
      "metadata": {
        "colab_type": "text",
        "id": "BViTeYelWDFX"
      },
      "source": [
        "# **Model Training and Testing Process**\n",
        "\n",
        "In order to build an effective breast cancer classification model, we follow a **train-test split** approach:\n",
        "\n",
        "1. **Training Phase:**  \n",
        "   - We use a **subset of the dataset** for training the machine learning model.\n",
        "   - The model learns patterns and relationships between **features** and their corresponding **labels** (Malignant or Benign).\n",
        "\n",
        "2. **Testing Phase:**  \n",
        "   - After training, we evaluate the model using a **testing dataset**.\n",
        "   - The testing dataset contains data that the model **has never seen before**.\n",
        "   - This ensures that the model’s predictions are **generalizable** and not just memorized from the training data.\n",
        "\n",
        "By following this approach, we can measure the model's performance and ensure it works effectively on new, unseen cases."
      ]
    },
    {
      "cell_type": "code",
      "execution_count": null,
      "metadata": {
        "colab": {},
        "colab_type": "code",
        "id": "rjzfoc2NV2D4"
      },
      "outputs": [],
      "source": [
        "from sklearn.model_selection import train_test_split"
      ]
    },
    {
      "cell_type": "code",
      "execution_count": null,
      "metadata": {
        "colab": {},
        "colab_type": "code",
        "id": "Mb8OLa1QW2k7"
      },
      "outputs": [],
      "source": [
        "x_train, x_test, y_train, y_test = train_test_split(x, y, test_size=0.20, random_state= 5)"
      ]
    },
    {
      "cell_type": "code",
      "execution_count": null,
      "metadata": {
        "colab": {
          "base_uri": "https://localhost:8080/",
          "height": 455
        },
        "colab_type": "code",
        "id": "bU2VvfvkXep_",
        "outputId": "0ecbb513-45a8-4e23-d9f6-5f8d44dd8983"
      },
      "outputs": [],
      "source": [
        "x_train"
      ]
    },
    {
      "cell_type": "code",
      "execution_count": null,
      "metadata": {
        "colab": {
          "base_uri": "https://localhost:8080/",
          "height": 34
        },
        "colab_type": "code",
        "id": "W4jOedUwXRNK",
        "outputId": "3d8fe81d-92d6-42a2-ef8c-c8eff08f38d5"
      },
      "outputs": [],
      "source": [
        "x_train.shape"
      ]
    },
    {
      "cell_type": "code",
      "execution_count": null,
      "metadata": {
        "colab": {
          "base_uri": "https://localhost:8080/",
          "height": 455
        },
        "colab_type": "code",
        "id": "sNEVQVWOXkgW",
        "outputId": "5dd3777f-6095-4e23-bf6d-945596e01590"
      },
      "outputs": [],
      "source": [
        "x_test"
      ]
    },
    {
      "cell_type": "code",
      "execution_count": null,
      "metadata": {
        "colab": {
          "base_uri": "https://localhost:8080/",
          "height": 34
        },
        "colab_type": "code",
        "id": "QPC4sOuZXYyo",
        "outputId": "652e1bd6-e22a-4cb2-f4d0-bfb80e74d30d"
      },
      "outputs": [],
      "source": [
        "x_test.shape"
      ]
    },
    {
      "cell_type": "code",
      "execution_count": null,
      "metadata": {
        "colab": {
          "base_uri": "https://localhost:8080/",
          "height": 218
        },
        "colab_type": "code",
        "id": "rEh5P0eDXivU",
        "outputId": "cc1f52b9-b9bf-46f3-c578-1a5ca926dd3d"
      },
      "outputs": [],
      "source": [
        "y_train"
      ]
    },
    {
      "cell_type": "code",
      "execution_count": null,
      "metadata": {
        "colab": {
          "base_uri": "https://localhost:8080/",
          "height": 34
        },
        "colab_type": "code",
        "id": "CcIMwobGXcL-",
        "outputId": "fcc22272-a403-434d-ea68-8fd80918cacf"
      },
      "outputs": [],
      "source": [
        "y_train.shape"
      ]
    },
    {
      "cell_type": "code",
      "execution_count": null,
      "metadata": {
        "colab": {
          "base_uri": "https://localhost:8080/",
          "height": 218
        },
        "colab_type": "code",
        "id": "EedafIlvXuQM",
        "outputId": "febfa743-c255-422a-98f5-bd7d40549538"
      },
      "outputs": [],
      "source": [
        "y_test"
      ]
    },
    {
      "cell_type": "code",
      "execution_count": null,
      "metadata": {
        "colab": {
          "base_uri": "https://localhost:8080/",
          "height": 34
        },
        "colab_type": "code",
        "id": "_kT_AK1UXpZn",
        "outputId": "fd1af1e9-5699-4dd5-9974-875046439c30"
      },
      "outputs": [],
      "source": [
        "y_test.shape"
      ]
    },
    {
      "cell_type": "code",
      "execution_count": null,
      "metadata": {
        "colab": {},
        "colab_type": "code",
        "id": "VhmbUs6qXyAI"
      },
      "outputs": [],
      "source": [
        "from sklearn.svm import SVC\n",
        "from sklearn.metrics import classification_report, confusion_matrix"
      ]
    },
    {
      "cell_type": "code",
      "execution_count": null,
      "metadata": {
        "colab": {},
        "colab_type": "code",
        "id": "SuMshIwcX8YE"
      },
      "outputs": [],
      "source": [
        "svc_model = SVC()"
      ]
    },
    {
      "cell_type": "code",
      "execution_count": null,
      "metadata": {
        "colab": {
          "base_uri": "https://localhost:8080/",
          "height": 84
        },
        "colab_type": "code",
        "id": "B1FcosYQX_jb",
        "outputId": "4926b1ed-e2b7-46cd-deb4-ca0b75318797"
      },
      "outputs": [],
      "source": [
        "svc_model.fit(x_train, y_train)"
      ]
    },
    {
      "cell_type": "markdown",
      "metadata": {
        "colab_type": "text",
        "id": "xsIUOEa3VON8"
      },
      "source": [
        "**EVALUATING THE MODEL**"
      ]
    },
    {
      "cell_type": "markdown",
      "metadata": {
        "colab_type": "text",
        "id": "AHl7tLzbHVLH"
      },
      "source": [
        "We're talking about the testing data which has data that has never seen before. "
      ]
    },
    {
      "cell_type": "code",
      "execution_count": null,
      "metadata": {
        "colab": {},
        "colab_type": "code",
        "id": "3IbD8lAQYH1c"
      },
      "outputs": [],
      "source": [
        "y_predict = svc_model.predict(x_test)"
      ]
    },
    {
      "cell_type": "code",
      "execution_count": null,
      "metadata": {
        "colab": {
          "base_uri": "https://localhost:8080/",
          "height": 134
        },
        "colab_type": "code",
        "id": "Nf47CkzKHhkD",
        "outputId": "b1f8c1da-9f84-4adb-9858-6647ae696e36"
      },
      "outputs": [],
      "source": [
        "y_predict"
      ]
    },
    {
      "cell_type": "markdown",
      "metadata": {
        "colab_type": "text",
        "id": "LFLjkzwIHoIf"
      },
      "source": [
        "We're going to plot a confusion matrix.  We need to specify compare our true value versus the predicted that."
      ]
    },
    {
      "cell_type": "code",
      "execution_count": null,
      "metadata": {
        "colab": {},
        "colab_type": "code",
        "id": "DKkGKqyPHmG1"
      },
      "outputs": [],
      "source": [
        "cm = confusion_matrix(y_test, y_predict)"
      ]
    },
    {
      "cell_type": "code",
      "execution_count": null,
      "metadata": {
        "colab": {
          "base_uri": "https://localhost:8080/",
          "height": 282
        },
        "colab_type": "code",
        "id": "1PpTDgMHI9z3",
        "outputId": "6809dacc-0be7-4374-c121-8db38176f68b"
      },
      "outputs": [],
      "source": [
        "sns.heatmap(cm, annot=True)"
      ]
    },
    {
      "cell_type": "code",
      "execution_count": null,
      "metadata": {
        "colab": {
          "base_uri": "https://localhost:8080/",
          "height": 168
        },
        "colab_type": "code",
        "id": "oyAKkF_yJSaE",
        "outputId": "e3d6c9d3-e475-4d0f-fae3-6c03953f64f8"
      },
      "outputs": [],
      "source": [
        "print(classification_report(y_test, y_predict))"
      ]
    },
    {
      "cell_type": "markdown",
      "metadata": {
        "colab_type": "text",
        "id": "T6wJVYINVPda"
      },
      "source": [
        "**IMPROVING THE MODEL**"
      ]
    },
    {
      "cell_type": "code",
      "execution_count": null,
      "metadata": {
        "colab": {
          "base_uri": "https://localhost:8080/",
          "height": 538
        },
        "colab_type": "code",
        "id": "Fdan_k3WJOYg",
        "outputId": "5e9c1244-e2ca-4d39-9b01-9fefd89566d3"
      },
      "outputs": [],
      "source": [
        "min_train = x_train.min()\n",
        "min_train"
      ]
    },
    {
      "cell_type": "code",
      "execution_count": null,
      "metadata": {
        "colab": {
          "base_uri": "https://localhost:8080/",
          "height": 538
        },
        "colab_type": "code",
        "id": "i8MmCPRJLSFT",
        "outputId": "6fe046cc-a236-4086-9bea-8989d875e193"
      },
      "outputs": [],
      "source": [
        "range_train = (x_train - min_train).max()\n",
        "range_train"
      ]
    },
    {
      "cell_type": "code",
      "execution_count": null,
      "metadata": {
        "colab": {
          "base_uri": "https://localhost:8080/",
          "height": 455
        },
        "colab_type": "code",
        "id": "hg5MHXZpLbX8",
        "outputId": "ac2bae5c-1dfd-49cf-c625-287439673ce1"
      },
      "outputs": [],
      "source": [
        "x_train_scaled = (x_train - min_train)/range_train\n",
        "x_train_scaled"
      ]
    },
    {
      "cell_type": "code",
      "execution_count": null,
      "metadata": {
        "colab": {
          "base_uri": "https://localhost:8080/",
          "height": 296
        },
        "colab_type": "code",
        "id": "mB6G6VXgLjaL",
        "outputId": "df53bf74-f2e0-466a-a578-8a7189b42cc2"
      },
      "outputs": [],
      "source": [
        "sns.scatterplot(x = x_train['mean area'], y= x_train['mean smoothness'], hue= y_train)"
      ]
    },
    {
      "cell_type": "code",
      "execution_count": null,
      "metadata": {
        "colab": {
          "base_uri": "https://localhost:8080/",
          "height": 296
        },
        "colab_type": "code",
        "id": "rGajUdMFL1Mc",
        "outputId": "c6a3cfa7-da33-40a0-b468-9f4ad7ad678f"
      },
      "outputs": [],
      "source": [
        "sns.scatterplot(x= x_train_scaled['mean area'], y= x_train_scaled['mean smoothness'], hue= y_train)"
      ]
    },
    {
      "cell_type": "code",
      "execution_count": null,
      "metadata": {
        "colab": {},
        "colab_type": "code",
        "id": "KESeP3pnMXbA"
      },
      "outputs": [],
      "source": [
        "min_test = x_test.min()\n",
        "range_test = (x_test - min_test).max()\n",
        "x_test_scaled = (x_test - min_test)/ range_test"
      ]
    },
    {
      "cell_type": "code",
      "execution_count": null,
      "metadata": {
        "colab": {
          "base_uri": "https://localhost:8080/",
          "height": 84
        },
        "colab_type": "code",
        "id": "CK79sjYdMw0U",
        "outputId": "44476812-3161-4097-d521-57f57faae94f"
      },
      "outputs": [],
      "source": [
        "svc_model.fit(x_train_scaled, y_train)"
      ]
    },
    {
      "cell_type": "code",
      "execution_count": null,
      "metadata": {
        "colab": {},
        "colab_type": "code",
        "id": "OMCWhzVwM8EF"
      },
      "outputs": [],
      "source": [
        "y_predict = svc_model.predict(x_test_scaled)"
      ]
    },
    {
      "cell_type": "code",
      "execution_count": null,
      "metadata": {
        "colab": {},
        "colab_type": "code",
        "id": "GQZPMgjENErS"
      },
      "outputs": [],
      "source": [
        "cm = confusion_matrix(y_test, y_predict)"
      ]
    },
    {
      "cell_type": "code",
      "execution_count": null,
      "metadata": {
        "colab": {
          "base_uri": "https://localhost:8080/",
          "height": 282
        },
        "colab_type": "code",
        "id": "lO1w_xxqNMPf",
        "outputId": "334dd1a3-d838-42ac-9fbd-8c8ff2e9780a"
      },
      "outputs": [],
      "source": [
        "sns.heatmap(cm, annot=True, fmt = 'd')"
      ]
    },
    {
      "cell_type": "code",
      "execution_count": null,
      "metadata": {
        "colab": {
          "base_uri": "https://localhost:8080/",
          "height": 168
        },
        "colab_type": "code",
        "id": "fZiPC-3FNXNi",
        "outputId": "f5123d81-f4f5-49e5-c515-2c0e663f0491"
      },
      "outputs": [],
      "source": [
        "print(classification_report(y_test, y_predict))"
      ]
    },
    {
      "cell_type": "markdown",
      "metadata": {
        "colab_type": "text",
        "id": "tSZDvm9yVRtY"
      },
      "source": [
        "**IMPROVING THE MODEL - PART 2**"
      ]
    },
    {
      "cell_type": "code",
      "execution_count": null,
      "metadata": {
        "colab": {},
        "colab_type": "code",
        "id": "af5myql7PH3E"
      },
      "outputs": [],
      "source": [
        "param_grid = {'C': [0.1, 1, 10, 100], 'gamma': [1, 0.1, 0.01, 0.001], 'kernel': ['rbf']} "
      ]
    },
    {
      "cell_type": "code",
      "execution_count": null,
      "metadata": {
        "colab": {},
        "colab_type": "code",
        "id": "8utEuDerODGy"
      },
      "outputs": [],
      "source": [
        "from sklearn.model_selection import GridSearchCV"
      ]
    },
    {
      "cell_type": "code",
      "execution_count": null,
      "metadata": {
        "colab": {},
        "colab_type": "code",
        "id": "-Xp10QujOLiL"
      },
      "outputs": [],
      "source": [
        "grid = GridSearchCV(SVC(), param_grid, refit= True, verbose= 4)"
      ]
    },
    {
      "cell_type": "code",
      "execution_count": null,
      "metadata": {
        "colab": {
          "base_uri": "https://localhost:8080/",
          "height": 1000
        },
        "colab_type": "code",
        "id": "LsHXfwusOTbs",
        "outputId": "fff863d2-f542-493f-c822-7d3647f571eb"
      },
      "outputs": [],
      "source": [
        "grid.fit(x_train_scaled, y_train)"
      ]
    },
    {
      "cell_type": "code",
      "execution_count": null,
      "metadata": {
        "colab": {
          "base_uri": "https://localhost:8080/",
          "height": 34
        },
        "colab_type": "code",
        "id": "TCtp8zDGOhaU",
        "outputId": "0cf34fe5-58fe-4601-d38b-6aafff2ccd5a"
      },
      "outputs": [],
      "source": [
        "grid.best_params_"
      ]
    },
    {
      "cell_type": "code",
      "execution_count": null,
      "metadata": {
        "colab": {
          "base_uri": "https://localhost:8080/",
          "height": 84
        },
        "colab_type": "code",
        "id": "6Lk1KTsrOmxa",
        "outputId": "c344b79a-45ad-4206-9c93-7586206ea7b5"
      },
      "outputs": [],
      "source": [
        "grid.best_estimator_"
      ]
    },
    {
      "cell_type": "code",
      "execution_count": null,
      "metadata": {
        "colab": {},
        "colab_type": "code",
        "id": "hDMCyNQCOuzu"
      },
      "outputs": [],
      "source": [
        "grid_prediction = grid.predict(x_test_scaled)"
      ]
    },
    {
      "cell_type": "code",
      "execution_count": null,
      "metadata": {
        "colab": {},
        "colab_type": "code",
        "id": "V2bH2CPAO6me"
      },
      "outputs": [],
      "source": [
        "cm = confusion_matrix(y_test, grid_prediction)"
      ]
    },
    {
      "cell_type": "code",
      "execution_count": null,
      "metadata": {
        "colab": {
          "base_uri": "https://localhost:8080/",
          "height": 282
        },
        "colab_type": "code",
        "id": "XRgjLjGMPRTJ",
        "outputId": "3ef90c08-5d25-4cf3-dbe8-cb3bc9028259"
      },
      "outputs": [],
      "source": [
        "sns.heatmap(cm, annot=True)"
      ]
    },
    {
      "cell_type": "code",
      "execution_count": null,
      "metadata": {
        "colab": {
          "base_uri": "https://localhost:8080/",
          "height": 168
        },
        "colab_type": "code",
        "id": "6w6J_8EBPWEu",
        "outputId": "2037a06e-5a09-4917-e678-5a8c3096ff92"
      },
      "outputs": [],
      "source": [
        "print(classification_report(y_test,grid_prediction ))"
      ]
    },
    {
      "cell_type": "markdown",
      "metadata": {
        "colab_type": "text",
        "id": "BVku4mhAR0OZ"
      },
      "source": [
        "# **Conclusion**\n",
        "\n",
        "- Machine Learning techniques, particularly **Support Vector Machines (SVM)**, successfully classified tumors as **Malignant or Benign** with **97% accuracy**.\n",
        "- This approach enables the **rapid evaluation** of breast masses, allowing for **automated classification** with high precision.\n",
        "- **Early breast cancer detection** can significantly improve survival rates, especially in **developing regions** where access to expert medical diagnosis is limited.\n",
        "- The technique can be further enhanced by integrating **Computer Vision** and **Machine Learning** to directly classify cancer using **tissue images**, leading to even more accurate and automated detection methods."
      ]
    }
  ],
  "metadata": {
    "colab": {
      "authorship_tag": "ABX9TyNJADvsabcKJ4NGwg2yb/R1",
      "collapsed_sections": [],
      "include_colab_link": true,
      "name": "Breast_Cancer_Classification.ipynb",
      "provenance": []
    },
    "kernelspec": {
      "display_name": "base",
      "language": "python",
      "name": "python3"
    },
    "language_info": {
      "codemirror_mode": {
        "name": "ipython",
        "version": 3
      },
      "file_extension": ".py",
      "mimetype": "text/x-python",
      "name": "python",
      "nbconvert_exporter": "python",
      "pygments_lexer": "ipython3",
      "version": "3.10.13"
    }
  },
  "nbformat": 4,
  "nbformat_minor": 0
}
