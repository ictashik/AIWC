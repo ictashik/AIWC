{
 "cells": [
  {
   "cell_type": "markdown",
   "metadata": {
    "id": "tZl_Ryaxm9Xo"
   },
   "source": [
    "# DNA CLASSIFICATION\n",
    "In this project ,we will be exploring what of bioinformatics.\n",
    "\n",
    "For this project, we wil use a dataset from the UCI Machine Learning response for a story of that has 100 DNA sequences with 57 sequential nucleotides.\n",
    "\n",
    "We will learn how to import data from the UCI repositories that can put to numerical data below and train classification algorithms and compare andcontrast classification machine learning algorithms."
   ]
  },
  {
   "cell_type": "markdown",
   "metadata": {
    "id": "18LxABi0nBIS"
   },
   "source": [
    "## Introduction to DNA Classifier"
   ]
  },
  {
   "cell_type": "markdown",
   "metadata": {
    "id": "XCrqQf537v1H"
   },
   "source": [
    "### Getting the data"
   ]
  },
  {
   "cell_type": "code",
   "execution_count": null,
   "metadata": {
    "executionInfo": {
     "elapsed": 277,
     "status": "ok",
     "timestamp": 1634567628097,
     "user": {
      "displayName": "Eda AYDIN",
      "photoUrl": "https://lh3.googleusercontent.com/a/default-user=s64",
      "userId": "12454893848479578606"
     },
     "user_tz": -180
    },
    "id": "lrUc86w_CnWH"
   },
   "outputs": [],
   "source": [
    "# Import libraries\n",
    "import sys\n",
    "import numpy as np\n",
    "import sklearn\n",
    "import pandas as pd\n",
    "import seaborn as sns\n",
    "import matplotlib.pyplot as plt\n",
    "\n",
    "import warnings\n",
    "warnings.filterwarnings(\"ignore\")"
   ]
  },
  {
   "cell_type": "code",
   "execution_count": null,
   "metadata": {
    "executionInfo": {
     "elapsed": 388,
     "status": "ok",
     "timestamp": 1634567628874,
     "user": {
      "displayName": "Eda AYDIN",
      "photoUrl": "https://lh3.googleusercontent.com/a/default-user=s64",
      "userId": "12454893848479578606"
     },
     "user_tz": -180
    },
    "id": "sxPXp_YqqwiF"
   },
   "outputs": [],
   "source": [
    "# import the ICU Molecular Biology (Promoter Gene Sequences) Data Set\n",
    "url = \"https://archive.ics.uci.edu/ml/machine-learning-databases/molecular-biology/promoter-gene-sequences/promoters.data\""
   ]
  },
  {
   "cell_type": "code",
   "execution_count": null,
   "metadata": {
    "executionInfo": {
     "elapsed": 4,
     "status": "ok",
     "timestamp": 1634567628875,
     "user": {
      "displayName": "Eda AYDIN",
      "photoUrl": "https://lh3.googleusercontent.com/a/default-user=s64",
      "userId": "12454893848479578606"
     },
     "user_tz": -180
    },
    "id": "r_jZXwuw7EnO"
   },
   "outputs": [],
   "source": [
    "names = [\"Class\", \"id\", \"Sequence\"]"
   ]
  },
  {
   "cell_type": "code",
   "execution_count": null,
   "metadata": {
    "executionInfo": {
     "elapsed": 303,
     "status": "ok",
     "timestamp": 1634567629175,
     "user": {
      "displayName": "Eda AYDIN",
      "photoUrl": "https://lh3.googleusercontent.com/a/default-user=s64",
      "userId": "12454893848479578606"
     },
     "user_tz": -180
    },
    "id": "CX2oCtUJ7NtN"
   },
   "outputs": [],
   "source": [
    "data = pd.read_csv(url, names = names)"
   ]
  },
  {
   "cell_type": "code",
   "execution_count": null,
   "metadata": {
    "colab": {
     "base_uri": "https://localhost:8080/",
     "height": 421
    },
    "executionInfo": {
     "elapsed": 23,
     "status": "ok",
     "timestamp": 1634567629181,
     "user": {
      "displayName": "Eda AYDIN",
      "photoUrl": "https://lh3.googleusercontent.com/a/default-user=s64",
      "userId": "12454893848479578606"
     },
     "user_tz": -180
    },
    "id": "5T11JU8r7Tlv",
    "outputId": "bf7865b3-a56b-4aaf-dddf-ede9cecfb9ec"
   },
   "outputs": [],
   "source": [
    "data"
   ]
  },
  {
   "cell_type": "markdown",
   "metadata": {
    "id": "3tQN49F-7ocq"
   },
   "source": [
    "## Exploring data\n"
   ]
  },
  {
   "cell_type": "code",
   "execution_count": null,
   "metadata": {
    "executionInfo": {
     "elapsed": 23,
     "status": "ok",
     "timestamp": 1634567629182,
     "user": {
      "displayName": "Eda AYDIN",
      "photoUrl": "https://lh3.googleusercontent.com/a/default-user=s64",
      "userId": "12454893848479578606"
     },
     "user_tz": -180
    },
    "id": "TTl1nDWF7aj4"
   },
   "outputs": [],
   "source": [
    "# Building our Dataset by creating a custom Pandas Dataframe\n",
    "# Each column in a Dataframe is called a Series. \n",
    "classes = data.loc[:,\"Class\"]"
   ]
  },
  {
   "cell_type": "code",
   "execution_count": null,
   "metadata": {
    "colab": {
     "base_uri": "https://localhost:8080/"
    },
    "executionInfo": {
     "elapsed": 23,
     "status": "ok",
     "timestamp": 1634567629183,
     "user": {
      "displayName": "Eda AYDIN",
      "photoUrl": "https://lh3.googleusercontent.com/a/default-user=s64",
      "userId": "12454893848479578606"
     },
     "user_tz": -180
    },
    "id": "LebPfTG98Hoa",
    "outputId": "7472c1cc-e9d9-4281-cd18-0e4f888b477a"
   },
   "outputs": [],
   "source": [
    "print(classes)"
   ]
  },
  {
   "cell_type": "markdown",
   "metadata": {
    "id": "T6LJ9VLN8Nu_"
   },
   "source": [
    "**A promoter is a sequence of DNA needed to turn a gene on or off.** The process of transcription is initiated at the promoter. Usually found the beginning of a gene, the promoter has a binding site for the enzyme used to make a messenger RNA (mRNA) molecule.\n",
    "\n",
    "Source:[Genome - Genetic Glossary - Promoter](https://www.google.com/url?sa=t&rct=j&q=&esrc=s&source=web&cd=&cad=rja&uact=8&ved=2ahUKEwjr6-2e49PzAhVvkosKHeFuBbsQFnoECA8QAw&url=https%3A%2F%2Fwww.genome.gov%2Fgenetics-glossary%2FPromoter&usg=AOvVaw3g7_kGWqn5M6d6Cgpu8j_X)\n",
    "\n",
    "According to this dataset:\n",
    "* \"+\" means the promoters\n",
    "* \"-\" means is anything that is not promoters.\n",
    "\n"
   ]
  },
  {
   "cell_type": "markdown",
   "metadata": {
    "id": "UecPuXGWKgNo"
   },
   "source": [
    "## Generating a DNA sequence"
   ]
  },
  {
   "cell_type": "markdown",
   "metadata": {
    "id": "rjqoZNdMc-v-"
   },
   "source": [
    "### Data preparation"
   ]
  },
  {
   "cell_type": "markdown",
   "metadata": {
    "id": "W88DHVRUKzNm"
   },
   "source": [
    "**A nucleotide is the basic building block of nucleic acids.**\n",
    "\n",
    "RNA and DNA are polmyers made of long chains of nucleotides. \n",
    "\n",
    "A nucleotide consists of a sugar molecule (either ribose in RNA or deoxyriboe in DNA) attached to a phosphate group and a nitrogen-containing base. \n",
    "\n",
    "The bases in DNA are adenine (A), cytosine (C), guanine (G), and thymine (T). In RNA, the base uracil (U) takes the place of thymine.\n",
    "\n",
    "Source: [Genome - Genetic Glossary - Nucleotide](https://www.genome.gov/genetics-glossary/Nucleotide)"
   ]
  },
  {
   "cell_type": "markdown",
   "metadata": {
    "id": "l6f168bzMVJR"
   },
   "source": [
    "---\n",
    "Sequencing DNA means determining the order of the four chemical building blocks - called \"bases\" - that make up the DNA molecule.** The sequence tells scientists the kind of genetic information that is carried in a particular DNA segment.**\n",
    "\n",
    "Source : [DNA Sequencing Fact Sheet](https://www.google.com/url?sa=t&rct=j&q=&esrc=s&source=web&cd=&cad=rja&uact=8&ved=2ahUKEwjm-Pyy79PzAhV3gP0HHcdTA7cQFnoECA8QAw&url=https%3A%2F%2Fwww.genome.gov%2Fabout-genomics%2Ffact-sheets%2FDNA-Sequencing-Fact-Sheet&usg=AOvVaw2GeMB1Qi6PvqKx0tf2ggEY)"
   ]
  },
  {
   "cell_type": "code",
   "execution_count": null,
   "metadata": {
    "colab": {
     "base_uri": "https://localhost:8080/"
    },
    "executionInfo": {
     "elapsed": 19,
     "status": "ok",
     "timestamp": 1634567629183,
     "user": {
      "displayName": "Eda AYDIN",
      "photoUrl": "https://lh3.googleusercontent.com/a/default-user=s64",
      "userId": "12454893848479578606"
     },
     "user_tz": -180
    },
    "id": "Q0g-PoD1MVAu",
    "outputId": "12fb213a-bfe9-4550-c0f5-e93196329ff7"
   },
   "outputs": [],
   "source": [
    "# generate list of DNA sequence\n",
    "sequences = list(data.loc[: , \"Sequence\"])\n",
    "dataset = {}\n",
    "\n",
    "# loop hrough sequences and split into individual nucleotides\n",
    "for i, seq in enumerate(sequences):\n",
    "\n",
    "  # split into nucleotides, remove ta characters\n",
    "  nucleotides = list(seq)\n",
    "  nucleotides = [x for x in nucleotides if x != '\\t']\n",
    "\n",
    "  # append class assignment\n",
    "  nucleotides.append(classes[i])\n",
    "\n",
    "  # add to dataset\n",
    "  dataset[i] = nucleotides\n",
    "\n",
    "print(dataset[0])"
   ]
  },
  {
   "cell_type": "code",
   "execution_count": null,
   "metadata": {
    "colab": {
     "base_uri": "https://localhost:8080/",
     "height": 1000
    },
    "executionInfo": {
     "elapsed": 335,
     "status": "ok",
     "timestamp": 1634567629501,
     "user": {
      "displayName": "Eda AYDIN",
      "photoUrl": "https://lh3.googleusercontent.com/a/default-user=s64",
      "userId": "12454893848479578606"
     },
     "user_tz": -180
    },
    "id": "B8vS74WuKfwO",
    "outputId": "5cebe109-5420-4383-b6d9-aae2174f3dec"
   },
   "outputs": [],
   "source": [
    "# turn dataset into pandas DataFrame\n",
    "dframe = pd.DataFrame(dataset)\n",
    "\n",
    "# print the dataframe using tabulate packages in a tab-separated format\n",
    "dframe"
   ]
  },
  {
   "cell_type": "code",
   "execution_count": null,
   "metadata": {
    "colab": {
     "base_uri": "https://localhost:8080/",
     "height": 225
    },
    "executionInfo": {
     "elapsed": 360,
     "status": "ok",
     "timestamp": 1634567629850,
     "user": {
      "displayName": "Eda AYDIN",
      "photoUrl": "https://lh3.googleusercontent.com/a/default-user=s64",
      "userId": "12454893848479578606"
     },
     "user_tz": -180
    },
    "id": "4lqXDEiK8K3O",
    "outputId": "d7f623b1-2b5b-4b46-a103-c4d656b3a367"
   },
   "outputs": [],
   "source": [
    "# transpose the dataframe\n",
    "df = dframe.transpose()\n",
    "\n",
    "# print the dataframe using tabulate packages in a tab-separated format\n",
    "df.iloc[:5]"
   ]
  },
  {
   "cell_type": "code",
   "execution_count": null,
   "metadata": {
    "colab": {
     "base_uri": "https://localhost:8080/",
     "height": 441
    },
    "executionInfo": {
     "elapsed": 16,
     "status": "ok",
     "timestamp": 1634567629851,
     "user": {
      "displayName": "Eda AYDIN",
      "photoUrl": "https://lh3.googleusercontent.com/a/default-user=s64",
      "userId": "12454893848479578606"
     },
     "user_tz": -180
    },
    "id": "f2UkAnzNR7I_",
    "outputId": "aafca085-c7e5-404a-bcae-f2c97dcb2e26"
   },
   "outputs": [],
   "source": [
    "# rename the last column as class\n",
    "\n",
    "df.rename(columns = {57 : \"Class\"}, inplace = True)\n",
    "df"
   ]
  },
  {
   "cell_type": "code",
   "execution_count": null,
   "metadata": {
    "colab": {
     "base_uri": "https://localhost:8080/",
     "height": 193
    },
    "executionInfo": {
     "elapsed": 652,
     "status": "ok",
     "timestamp": 1634567630488,
     "user": {
      "displayName": "Eda AYDIN",
      "photoUrl": "https://lh3.googleusercontent.com/a/default-user=s64",
      "userId": "12454893848479578606"
     },
     "user_tz": -180
    },
    "id": "tVUvG9fMUNy0",
    "outputId": "a258c4f6-a1c5-48d0-d397-4e5eeb4c159e"
   },
   "outputs": [],
   "source": [
    "# looks good. Let's start to familiarize ourselves with the dataset so we can pick the most suitable\n",
    "\n",
    "df.describe()"
   ]
  },
  {
   "cell_type": "code",
   "execution_count": null,
   "metadata": {
    "executionInfo": {
     "elapsed": 54,
     "status": "ok",
     "timestamp": 1634567630489,
     "user": {
      "displayName": "Eda AYDIN",
      "photoUrl": "https://lh3.googleusercontent.com/a/default-user=s64",
      "userId": "12454893848479578606"
     },
     "user_tz": -180
    },
    "id": "zitMYZ1YVPi8"
   },
   "outputs": [],
   "source": [
    "# Target Column Visualization\n",
    "\n",
    "def visualize_target(plot, feature):\n",
    "  total = len(feature)\n",
    "  for p in plot.patches:\n",
    "    percentage = '{:.1f}%'.format(100 * p.get_height()/total)\n",
    "    x = p.get_x() + p.get_width() / 2 - 0.05\n",
    "    y = p.get_y() + p.get_height()\n",
    "    ax.annotate(percentage, (x, y), size = 12)\n",
    "  plt.show()"
   ]
  },
  {
   "cell_type": "code",
   "execution_count": null,
   "metadata": {
    "colab": {
     "base_uri": "https://localhost:8080/",
     "height": 354
    },
    "executionInfo": {
     "elapsed": 394,
     "status": "ok",
     "timestamp": 1634569264375,
     "user": {
      "displayName": "Eda AYDIN",
      "photoUrl": "https://lh3.googleusercontent.com/a/default-user=s64",
      "userId": "12454893848479578606"
     },
     "user_tz": -180
    },
    "id": "slVSw1XuWzzx",
    "outputId": "c39e90f9-e3bb-4af3-f382-6511cf1699cf"
   },
   "outputs": [],
   "source": [
    "plt.figure(figsize=(7,5))\n",
    "ax = sns.countplot(x=\"Class\", data = df)\n",
    "plt.xticks(size = 12)\n",
    "plt.xlabel(\"Promoters or Non Promoters\")\n",
    "plt.yticks(size = 12)\n",
    "plt.ylabel(\"count\", size = 12)\n",
    "\n",
    "visualize_target(ax, df.Class)\n",
    "plt.savefig(\"target_histogram\")"
   ]
  },
  {
   "cell_type": "code",
   "execution_count": null,
   "metadata": {
    "colab": {
     "base_uri": "https://localhost:8080/",
     "height": 256
    },
    "executionInfo": {
     "elapsed": 56,
     "status": "ok",
     "timestamp": 1634567630493,
     "user": {
      "displayName": "Eda AYDIN",
      "photoUrl": "https://lh3.googleusercontent.com/a/default-user=s64",
      "userId": "12454893848479578606"
     },
     "user_tz": -180
    },
    "id": "n4H6pceXVxIR",
    "outputId": "673bb1c5-3eb2-40a6-f997-697812c27f7d"
   },
   "outputs": [],
   "source": [
    "# describe  doesn't tell us enough information since the attributes are text. Let's record alue counts for each sequence\n",
    "\n",
    "series = []\n",
    "\n",
    "for name in df.columns:\n",
    "  series.append(df[name].value_counts())\n",
    "\n",
    "info = pd.DataFrame(series)\n",
    "details = info.transpose()\n",
    "details"
   ]
  },
  {
   "cell_type": "code",
   "execution_count": null,
   "metadata": {
    "colab": {
     "base_uri": "https://localhost:8080/",
     "height": 254
    },
    "executionInfo": {
     "elapsed": 475,
     "status": "ok",
     "timestamp": 1634567630918,
     "user": {
      "displayName": "Eda AYDIN",
      "photoUrl": "https://lh3.googleusercontent.com/a/default-user=s64",
      "userId": "12454893848479578606"
     },
     "user_tz": -180
    },
    "id": "9JQl1kLTZv4w",
    "outputId": "d3a5e58c-e334-4877-ec3c-88e166f80ade"
   },
   "outputs": [],
   "source": [
    "# Unfortunately, we can't run machine learning algorithms on the data in 'String' formats. As a result, we need to switch it to numerical data. \n",
    "# This can easily be accomplished using the pd.get_dummies() function\n",
    "numerical_df = pd.get_dummies(df)\n",
    "numerical_df.head()"
   ]
  },
  {
   "cell_type": "code",
   "execution_count": null,
   "metadata": {
    "colab": {
     "base_uri": "https://localhost:8080/",
     "height": 254
    },
    "executionInfo": {
     "elapsed": 19,
     "status": "ok",
     "timestamp": 1634567630919,
     "user": {
      "displayName": "Eda AYDIN",
      "photoUrl": "https://lh3.googleusercontent.com/a/default-user=s64",
      "userId": "12454893848479578606"
     },
     "user_tz": -180
    },
    "id": "d09YJQrBaAOx",
    "outputId": "b8051189-7694-40bb-aaf7-7b183bc9fe7c"
   },
   "outputs": [],
   "source": [
    "# We don't need both class columns.  Lets drop one then rename the other to simply 'Class'.\n",
    "df = numerical_df.drop(columns=['Class_-'])\n",
    "\n",
    "df.rename(columns = {'Class_+': 'Class'}, inplace = True)\n",
    "df.head()"
   ]
  },
  {
   "cell_type": "markdown",
   "metadata": {
    "id": "7_L6b85udG8A"
   },
   "source": [
    "## Modeling"
   ]
  },
  {
   "cell_type": "markdown",
   "metadata": {
    "id": "VDzL9G76dV9A"
   },
   "source": [
    "### Splitting the dataset into training test and test set"
   ]
  },
  {
   "cell_type": "code",
   "execution_count": null,
   "metadata": {
    "executionInfo": {
     "elapsed": 19,
     "status": "ok",
     "timestamp": 1634567630920,
     "user": {
      "displayName": "Eda AYDIN",
      "photoUrl": "https://lh3.googleusercontent.com/a/default-user=s64",
      "userId": "12454893848479578606"
     },
     "user_tz": -180
    },
    "id": "jRCZc1Eyb-T_"
   },
   "outputs": [],
   "source": [
    "# Use the model_selection module to separate training and testing datasets\n",
    "from sklearn import model_selection\n",
    "\n",
    "# Create X and Y datasets for training\n",
    "X = np.array(df.drop(['Class'], axis=1))\n",
    "y = np.array(df['Class'])\n",
    "\n",
    "# define seed for reproducibility\n",
    "seed = 1\n",
    "\n",
    "# split data into training and testing datasets\n",
    "X_train, X_test, y_train, y_test = model_selection.train_test_split(X, y, test_size=0.25, random_state=seed)"
   ]
  },
  {
   "cell_type": "code",
   "execution_count": null,
   "metadata": {
    "colab": {
     "base_uri": "https://localhost:8080/"
    },
    "executionInfo": {
     "elapsed": 6982,
     "status": "ok",
     "timestamp": 1634567637884,
     "user": {
      "displayName": "Eda AYDIN",
      "photoUrl": "https://lh3.googleusercontent.com/a/default-user=s64",
      "userId": "12454893848479578606"
     },
     "user_tz": -180
    },
    "id": "YLkU_dhxdt6m",
    "outputId": "33673542-174e-43fe-d83d-9b6cadefd081"
   },
   "outputs": [],
   "source": [
    "# Now that we have our dataset, we can start building algorithms! We'll need to import each algorithm we plan on using from sklearn.  \n",
    "# We also need to import some performance metrics, such as accuracy_score and classification_report.\n",
    "\n",
    "from sklearn.neighbors import KNeighborsClassifier\n",
    "from sklearn.neural_network import MLPClassifier\n",
    "from sklearn.gaussian_process import GaussianProcessClassifier\n",
    "from sklearn.gaussian_process.kernels import RBF\n",
    "from sklearn.tree import DecisionTreeClassifier\n",
    "from sklearn.ensemble import RandomForestClassifier, AdaBoostClassifier\n",
    "from sklearn.naive_bayes import GaussianNB\n",
    "from sklearn.svm import SVC\n",
    "from sklearn.metrics import classification_report, accuracy_score\n",
    "\n",
    "#define scoring method\n",
    "scoring ='accuracy'\n",
    "\n",
    "#define the model to train\n",
    "names = [\"Nearest Neighbors\", \"Gaussian Process\",\"Decision Tree\",\"Random Forest\",\n",
    "         \"Neural Net\", \"AdaBoost\",\"Naive Bayes\",\"SVM Linear\",\"SVM RBF\",\"SVM Sigmoid\"]\n",
    "classifiers =[\n",
    "    KNeighborsClassifier(n_neighbors=3),\n",
    "    GaussianProcessClassifier(1.0 * RBF(1.0)),\n",
    "    DecisionTreeClassifier(max_depth=5),\n",
    "    RandomForestClassifier(max_depth=5, n_estimators=10,max_features=1),\n",
    "    MLPClassifier(alpha=1),\n",
    "    AdaBoostClassifier(),\n",
    "    GaussianNB(),\n",
    "    SVC(kernel='linear'),\n",
    "    SVC(kernel='rbf'),\n",
    "    SVC(kernel='sigmoid')\n",
    "]\n",
    "models =zip(names,classifiers)\n",
    "\n",
    "# evaluate each model in turn\n",
    "results = []\n",
    "names=[]\n",
    "accuracy = []\n",
    "for name,model in models:\n",
    "    kfold = model_selection.KFold(n_splits = 10,shuffle=True, random_state=seed)\n",
    "    cv_results = model_selection.cross_val_score(model, X_train,y_train,cv=kfold,scoring=scoring)\n",
    "    results.append(cv_results)\n",
    "    names.append(name)\n",
    "    msg= \"%s: %f (%f)\" %(name, cv_results.mean(), cv_results.std())\n",
    "    \n",
    "    print(msg)\n",
    "    model.fit(X_train,y_train)\n",
    "    predictions= model.predict(X_test)\n",
    "    print(name)\n",
    "    print( classification_report(y_test,predictions))"
   ]
  },
  {
   "cell_type": "code",
   "execution_count": null,
   "metadata": {
    "colab": {
     "base_uri": "https://localhost:8080/",
     "height": 17
    },
    "executionInfo": {
     "elapsed": 272,
     "status": "ok",
     "timestamp": 1634569172218,
     "user": {
      "displayName": "Eda AYDIN",
      "photoUrl": "https://lh3.googleusercontent.com/a/default-user=s64",
      "userId": "12454893848479578606"
     },
     "user_tz": -180
    },
    "id": "5vsc07UU4jwy",
    "outputId": "a377d2e1-b354-4951-a785-20248014996b"
   },
   "outputs": [],
   "source": [
    "from IPython.core.display import HTML as Center\n",
    "\n",
    "Center(\"\"\" <style>\n",
    ".output_png {\n",
    "    display: table-cell;\n",
    "    text-align: center;\n",
    "    vertical-align: middle;\n",
    "}\n",
    "</style> \"\"\")"
   ]
  },
  {
   "cell_type": "code",
   "execution_count": null,
   "metadata": {
    "colab": {
     "base_uri": "https://localhost:8080/",
     "height": 888
    },
    "executionInfo": {
     "elapsed": 790,
     "status": "ok",
     "timestamp": 1634569702796,
     "user": {
      "displayName": "Eda AYDIN",
      "photoUrl": "https://lh3.googleusercontent.com/a/default-user=s64",
      "userId": "12454893848479578606"
     },
     "user_tz": -180
    },
    "id": "30_EVFmzysgZ",
    "outputId": "25180ece-2f10-48f1-c7ba-c0a48048e032"
   },
   "outputs": [],
   "source": [
    "# boxplot algorithm comparison\n",
    "fig = plt.figure(figsize=(10,12), dpi = 80)\n",
    "fig.suptitle('Algorithm Comparison')\n",
    "ax = fig.add_subplot(111)\n",
    "plt.boxplot(results, vert=False)\n",
    "ax.set_yticklabels(names)\n",
    "plt.show()\n",
    "plt.savefig(\"algorithm_comparison.png\")"
   ]
  },
  {
   "cell_type": "code",
   "execution_count": null,
   "metadata": {},
   "outputs": [],
   "source": []
  }
 ],
 "metadata": {
  "colab": {
   "authorship_tag": "ABX9TyMk0YFWCMFG+90x2zTOI9Eu",
   "name": "DNA Classification.ipynb",
   "provenance": []
  },
  "kernelspec": {
   "display_name": "base",
   "language": "python",
   "name": "python3"
  },
  "language_info": {
   "codemirror_mode": {
    "name": "ipython",
    "version": 3
   },
   "file_extension": ".py",
   "mimetype": "text/x-python",
   "name": "python",
   "nbconvert_exporter": "python",
   "pygments_lexer": "ipython3",
   "version": "3.10.13"
  }
 },
 "nbformat": 4,
 "nbformat_minor": 0
}
