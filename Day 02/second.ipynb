{
  "cells": [
    {
      "cell_type": "markdown",
      "id": "42e3acf5",
      "metadata": {},
      "source": [
        "# Day 2: Basic ML Concepts & Medical Dataset Exploration\n",
        "\n",
        "Welcome to **Day 2** of our elective: **AI in White Coat**. Today, we’ll build on our HPC familiarity and start diving into **core ML concepts** and **practical dataset exploration**—this time using **BloodMNIST**, a dataset of blood cell images from the [MedMNIST](https://medmnist.com/) collection.\n",
        "\n",
        "By the end of this session, you’ll:\n",
        "\n",
        "1. Understand basic ML terminology (classification vs. regression).\n",
        "2. Practice a *prompt-first* approach to load and explore a small **medical** dataset (BloodMNIST) from [Hugging Face Datasets](https://huggingface.co/datasets/MedMNIST/bloodmnist).\n",
        "3. Perform a simple train/test split and build a baseline classifier (e.g., Logistic Regression).\n",
        "4. Evaluate your model’s accuracy and examine a confusion matrix.\n",
        "\n",
        "---\n",
        "## 1. Quick Recap of Day 1\n",
        "- We learned how to log in to our HPC at `10.20.110.114`.\n",
        "- We tried out basic Linux commands and verified GPU availability.\n",
        "- We also practiced a \"prompt-first\" approach using an LLM.\n",
        "\n",
        "If you haven’t already, please create or navigate to your `day2_notebook` folder on the HPC. Let’s get started!"
      ]
    },
    {
      "cell_type": "markdown",
      "id": "1bbc9c0e",
      "metadata": {},
      "source": [
        "## 2. Classification vs. Regression (Conceptual Overview)\n",
        "\n",
        "In **Machine Learning**, we often distinguish between:\n",
        "- **Classification**: Predicting discrete labels (e.g., disease vs. no disease, normal vs. abnormal imaging). \n",
        "- **Regression**: Predicting continuous values (e.g., a patient’s blood pressure, hospital length of stay).\n",
        "\n",
        "### Clinical Examples\n",
        "- **Classification**: Is a given microscopic blood cell image indicative of a particular cell type or abnormality?\n",
        "- **Regression**: Predict the exact quantity of certain blood components based on image features.\n",
        "\n",
        "Today, we’ll do a **classification** example using the **BloodMNIST** dataset. Future sessions may explore more specialized tasks or deeper architectures."
      ]
    },
    {
      "cell_type": "markdown",
      "id": "909d8674",
      "metadata": {},
      "source": [
        "## 3. Installing and Importing Libraries (Prompt-First)\n",
        "\n",
        "On some HPCs, libraries like `datasets`, `numpy`, `scikit-learn`, etc., might not be installed by default. You may need to prompt the LLM for an installation script.\n",
        "\n",
        "### Example Prompt\n",
        "```\n",
        "I am on a remote HPC (Ubuntu). I have Python 3 and pip.\n",
        "Please generate a shell command to:\n",
        "1. Upgrade pip\n",
        "2. Install datasets, scikit-learn, numpy, matplotlib\n",
        "```\n",
        "\n",
        "After receiving the shell command from the LLM, run it in your terminal or as a cell magic (e.g., `!pip install ...`)."
      ]
    },
    {
      "cell_type": "code",
      "execution_count": null,
      "id": "18e2a761",
      "metadata": {
        "collapsed": false
      },
      "outputs": [],
      "source": [
        "# ====== LLM-GENERATED CODE CELL (Install Dependencies) ======\n",
        "# If these libraries are already installed, you can skip or comment this out.\n",
        "# Example:\n",
        "# !pip install --upgrade pip\n",
        "# !pip install datasets scikit-learn numpy matplotlib\n",
        "\n",
        "# Uncomment or paste your LLM output here if needed.\n"
      ]
    },
    {
      "cell_type": "markdown",
      "id": "6cf58dae",
      "metadata": {},
      "source": [
        "Now let’s **import** our libraries. If something is missing, prompt the LLM for troubleshooting help or re-install the relevant package."
      ]
    },
    {
      "cell_type": "code",
      "execution_count": null,
      "id": "61e2902f",
      "metadata": {
        "collapsed": false
      },
      "outputs": [],
      "source": [
        "# ====== Python Imports (adjust as needed) ======\n",
        "import numpy as np\n",
        "import matplotlib.pyplot as plt\n",
        "from datasets import load_dataset\n",
        "from sklearn.model_selection import train_test_split\n",
        "from sklearn.linear_model import LogisticRegression\n",
        "from sklearn.metrics import accuracy_score, confusion_matrix\n",
        "\n",
        "print(\"Imports complete.\")"
      ]
    },
    {
      "cell_type": "markdown",
      "id": "cc5f9d76",
      "metadata": {},
      "source": [
        "## 4. Loading the BloodMNIST Dataset\n",
        "\n",
        "**BloodMNIST** is part of the [MedMNIST](https://medmnist.com/) suite, containing images of blood cells with multiple classes.\n",
        "\n",
        "### Prompt Example\n",
        "```\n",
        "I want to load the \"MedMNIST/bloodmnist\" dataset from Hugging Face in a Python notebook.\n",
        "Please generate code using the 'datasets' library.\n",
        "Then show how to explore the dataset (like printing a few samples).\n",
        "```\n",
        "\n",
        "We’ll do it step by step."
      ]
    },
    {
      "cell_type": "code",
      "execution_count": null,
      "id": "4cb3c4fe",
      "metadata": {},
      "outputs": [],
      "source": [
        "# ====== LLM-GENERATED CODE CELL (Load Dataset) ======\n",
        "# Example prompt's result:\n",
        "\n",
        "# We'll load the BloodMNIST dataset from Hugging Face.\n",
        "bloodmnist = load_dataset(\"MedMNIST/bloodmnist\")\n",
        "print(bloodmnist)\n",
        "\n",
        "# Let's see a sample from the 'train' split.\n",
        "sample = bloodmnist['train'][0]\n",
        "sample"
      ]
    },
    {
      "cell_type": "markdown",
      "id": "50abd4d1",
      "metadata": {},
      "source": [
        "The dataset typically has **train**, **test**, and sometimes **validation** splits. \n",
        "\n",
        "You can explore how many samples are in each split and how they’re structured. Because BloodMNIST images are 28x28 grayscale (like MNIST), they’re quite small—convenient for quick demos!"
      ]
    },
    {
      "cell_type": "code",
      "execution_count": null,
      "id": "9395fb0c",
      "metadata": {},
      "outputs": [],
      "source": [
        "# ====== Dataset Exploration ======\n",
        "# For instance, let's print the sizes of each split.\n",
        "\n",
        "print(\"Train size:\", len(bloodmnist['train']))\n",
        "print(\"Test size:\\t\", len(bloodmnist['test']))\n",
        "\n",
        "# If there's a 'validation' split, let's see:\n",
        "if 'validation' in bloodmnist:\n",
        "    print(\"Validation size:\", len(bloodmnist['validation']))\n",
        "else:\n",
        "    print(\"No dedicated validation split in BloodMNIST.\")"
      ]
    },
    {
      "cell_type": "markdown",
      "id": "9dc30d9a",
      "metadata": {},
      "source": [
        "## 5. Visualizing a Few Samples\n",
        "\n",
        "Before jumping into modeling, let’s see what these images look like. Since they’re small, it’s easy to plot them using `matplotlib`."
      ]
    },
    {
      "cell_type": "code",
      "execution_count": null,
      "id": "79fe77b0",
      "metadata": {},
      "outputs": [],
      "source": [
        "# ====== LLM-GENERATED CODE CELL (Show Samples) ======\n",
        "# Example prompt:\n",
        "# \"Please generate code to display 5 random images from the BloodMNIST train split\n",
        "#   using matplotlib, including their labels.\"\n",
        "\n",
        "import random\n",
        "fig, axes = plt.subplots(1, 5, figsize=(10, 2))\n",
        "for ax in axes:\n",
        "    idx = random.randint(0, len(bloodmnist['train']) - 1)\n",
        "    sample = bloodmnist['train'][idx]\n",
        "    image = np.array(sample['image'])\n",
        "    label = sample['label']\n",
        "    ax.imshow(image, cmap='gray')\n",
        "    ax.set_title(f\"Label: {label}\")\n",
        "    ax.axis('off')\n",
        "\n",
        "plt.tight_layout()\n",
        "plt.show()"
      ]
    },
    {
      "cell_type": "markdown",
      "id": "6e2477b0",
      "metadata": {},
      "source": [
        "The **label** indicates the type of blood cell (e.g., RBC, WBC subtypes, etc.). \n",
        "\n",
        "## 6. Preparing Data for Classification\n",
        "\n",
        "Since we’ll do a **baseline** classification with scikit-learn, we need numeric arrays. BloodMNIST images are typically 28x28 (like classic MNIST). Let’s **flatten** them into a 1D vector of size 784 (28*28).\n",
        "\n",
        "**Note**: This is **not** how you’d typically do modern image-based classification—usually, you’d use a CNN. But it demonstrates the ML workflow in a simple manner."
      ]
    },
    {
      "cell_type": "code",
      "execution_count": null,
      "id": "4fd032ab",
      "metadata": {},
      "outputs": [],
      "source": [
        "# ====== Data Conversion to Numpy Arrays ======\n",
        "# We'll write a helper function that flattens images and returns an (X, y) tuple.\n",
        "\n",
        "def flatten_data(dataset_split):\n",
        "    X_list = []\n",
        "    y_list = []\n",
        "    for item in dataset_split:\n",
        "        image = np.array(item['image']).flatten()  # Flatten to 784\n",
        "        label = item['label']\n",
        "        X_list.append(image)\n",
        "        y_list.append(label)\n",
        "    return np.array(X_list), np.array(y_list)\n",
        "\n",
        "# We'll create train/test sets from the dataset.\n",
        "X_train, y_train = flatten_data(bloodmnist['train'])\n",
        "X_test, y_test = flatten_data(bloodmnist['test'])\n",
        "\n",
        "print(\"X_train shape:\", X_train.shape)\n",
        "print(\"y_train shape:\", y_train.shape)\n",
        "print(\"X_test shape: \", X_test.shape)\n",
        "print(\"y_test shape: \", y_test.shape)"
      ]
    },
    {
      "cell_type": "markdown",
      "id": "f50b65e1",
      "metadata": {},
      "source": [
        "It looks like we have `(N, 784)` for `X_train` and `(N,)` for `y_train`, which is suitable for scikit-learn.\n",
        "\n",
        "## 7. (Optional) Create a Validation Split\n",
        "\n",
        "Often, we reserve some data for **validation** to tune hyperparameters. If BloodMNIST doesn’t have a separate validation set, we can create one manually.\n",
        "\n",
        "### Prompt Example:\n",
        "```\n",
        "Using scikit-learn's train_test_split, please create a 10% validation split out of X_train.\n",
        "```\n",
        "\n",
        "For brevity, we’ll just keep a train/test for now. If you wish to add a validation split, go ahead!"
      ]
    },
    {
      "cell_type": "markdown",
      "id": "f0da82fa",
      "metadata": {},
      "source": [
        "## 8. Training a Simple Logistic Regression Model\n",
        "\n",
        "We’ll do a **baseline** classifier using logistic regression. Later, we’ll see more sophisticated approaches.\n",
        "\n",
        "### Prompt Example\n",
        "```\n",
        "Generate Python code to train a LogisticRegression model with max_iter=1000 on (X_train, y_train)\n",
        "Then evaluate its accuracy on (X_test, y_test) and print the result.\n",
        "```\n"
      ]
    },
    {
      "cell_type": "code",
      "execution_count": null,
      "id": "45fcb0ff",
      "metadata": {},
      "outputs": [],
      "source": [
        "# ====== LLM-GENERATED CODE CELL (Logistic Regression) ======\n",
        "# Example:\n",
        "clf = LogisticRegression(max_iter=1000)\n",
        "clf.fit(X_train, y_train)\n",
        "\n",
        "test_preds = clf.predict(X_test)\n",
        "test_acc = accuracy_score(y_test, test_preds)\n",
        "print(\"Test Accuracy:\", test_acc)"
      ]
    },
    {
      "cell_type": "markdown",
      "id": "37c7c4b4",
      "metadata": {},
      "source": [
        "## 9. Confusion Matrix\n",
        "\n",
        "A **confusion matrix** can help us see how well the model is distinguishing between the different blood cell types.\n",
        "\n",
        "### Prompt Example\n",
        "```\n",
        "Please generate code to compute a confusion matrix for test_preds and y_test using scikit-learn.\n",
        "Then display it using matplotlib.\n",
        "```\n"
      ]
    },
    {
      "cell_type": "code",
      "execution_count": null,
      "id": "ba24cb5a",
      "metadata": {},
      "outputs": [],
      "source": [
        "# ====== LLM-GENERATED CODE CELL (Confusion Matrix) ======\n",
        "cm = confusion_matrix(y_test, test_preds)\n",
        "print(\"Confusion Matrix:\")\n",
        "print(cm)\n",
        "\n",
        "plt.matshow(cm, cmap=plt.cm.Blues)\n",
        "plt.title(\"Confusion Matrix\")\n",
        "plt.colorbar()\n",
        "plt.xlabel(\"Predicted\")\n",
        "plt.ylabel(\"True\")\n",
        "plt.show()"
      ]
    },
    {
      "cell_type": "markdown",
      "id": "7941068c",
      "metadata": {},
      "source": [
        "## 10. Observations & Clinical Relevance\n",
        "\n",
        "- **Model Performance**: We’re using a very simple approach—flattening images and using logistic regression. The accuracy may be limited.\n",
        "- **Why It Matters**: Even a basic workflow reveals the process of training, testing, and interpreting results. In real-world practice, one might use **convolutional neural networks (CNNs)** for image classification.\n",
        "- **Clinical Tie-In**: In a real scenario, classifying blood cells automatically could help in high-volume labs or prescreening tasks to identify abnormal cells.\n",
        "- **Next Steps**: We’ll explore more sophisticated models or domain-specific techniques in future sessions."
      ]
    },
    {
      "cell_type": "markdown",
      "id": "01558a68",
      "metadata": {},
      "source": [
        "## 11. Assignment #2: A Deeper Dive\n",
        "\n",
        "**Task**: Using the same BloodMNIST dataset (or another MedMNIST subset if you’re adventurous):\n",
        "1. **Perform an Extended EDA**:\n",
        "   - Prompt the LLM to generate code for: class distribution, more image plots, and summary stats.\n",
        "2. **Try a Different Classifier** (e.g., `RandomForestClassifier` or `SGDClassifier`) and compare accuracy with Logistic Regression.\n",
        "3. **Document** your findings in your daily log:\n",
        "   - How does the confusion matrix differ?\n",
        "   - Which classes are easiest/hardest to predict?\n",
        "\n",
        "### Bonus\n",
        "- Use an LLM to **optimize hyperparameters** (e.g., n_estimators in RandomForest) and see if performance improves.\n",
        "- Reflect on how this method might be extended to detecting **rare** abnormal cells.\n",
        "\n",
        "**Feel free to add** any interesting observations or creative solutions. Good luck, and see you on **Day 3**!"
      ]
    },
    {
      "cell_type": "markdown",
      "id": "74ff7ec5",
      "metadata": {},
      "source": [
        "# End of Day 2 Notebook\n",
        "\n",
        "Today, you learned how to:\n",
        "- Install and import necessary libraries.\n",
        "- Load a **medical** dataset (BloodMNIST) from Hugging Face.\n",
        "- Convert data to a format suitable for scikit-learn.\n",
        "- Train, evaluate, and interpret a baseline classifier.\n",
        "\n",
        "Remember to record your progress, roadblocks, and reflections in your **Daily Log** or **Portfolio**. If you have questions, ask your mentors or consult the LLM for additional guidance!\n"
      ]
    }
  ],
  "metadata": {
    "kernelspec": {
      "display_name": "Python 3",
      "language": "python",
      "name": "python3"
    },
    "language_info": {
      "codemirror_mode": {
        "name": "ipython",
        "version": 3
      },
      "file_extension": ".py",
      "mimetype": "text/x-python",
      "name": "python",
      "nbconvert_exporter": "python",
      "pygments_lexer": "ipython3",
      "version": "3.8"
    }
  },
  "nbformat": 4,
  "nbformat_minor": 5
}
