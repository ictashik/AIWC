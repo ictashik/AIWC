{
 "cells": [
  {
   "cell_type": "markdown",
   "id": "0fcd685f",
   "metadata": {},
   "source": [
    "\n",
    "# **Essential Machine Learning for Medicine - Day 3**\n",
    "### **Using the Heart Disease UCI Dataset for Regression, Classification, and Clustering**\n",
    "In this notebook, we will:\n",
    "1. Load an open-source dataset (Heart Disease UCI dataset).\n",
    "2. Perform exploratory data analysis (EDA) and visualization.\n",
    "3. Train a regression model.\n",
    "4. Train a classification model.\n",
    "5. Train a clustering model.\n"
   ]
  },
  {
   "cell_type": "code",
   "execution_count": null,
   "id": "f3247e93",
   "metadata": {},
   "outputs": [],
   "source": [
    "\n",
    "import pandas as pd\n",
    "import numpy as np\n",
    "import matplotlib.pyplot as plt\n",
    "import seaborn as sns\n",
    "\n",
    "# Load dataset\n",
    "url = \"https://archive.ics.uci.edu/ml/machine-learning-databases/heart-disease/processed.cleveland.data\"\n",
    "columns = [\"age\", \"sex\", \"cp\", \"trestbps\", \"chol\", \"fbs\", \"restecg\", \"thalach\", \"exang\", \"oldpeak\", \"slope\", \"ca\", \"thal\", \"target\"]\n",
    "df = pd.read_csv(url, names=columns, na_values=\"?\")\n",
    "\n",
    "# Handle missing values\n",
    "df = df.dropna()\n",
    "\n",
    "# Convert target column to binary classification (1: Disease, 0: No Disease)\n",
    "df['target'] = df['target'].apply(lambda x: 1 if x > 0 else 0)\n",
    "\n",
    "# Display dataset information\n",
    "df.head()\n"
   ]
  },
  {
   "cell_type": "markdown",
   "id": "c1c6c8aa",
   "metadata": {},
   "source": [
    "## **Exploratory Data Analysis and Visualization**"
   ]
  },
  {
   "cell_type": "code",
   "execution_count": null,
   "id": "717807af",
   "metadata": {},
   "outputs": [],
   "source": [
    "\n",
    "# Summary statistics\n",
    "df.describe()\n"
   ]
  },
  {
   "cell_type": "code",
   "execution_count": null,
   "id": "e911b31c",
   "metadata": {},
   "outputs": [],
   "source": [
    "\n",
    "# Check for missing values\n",
    "df.isnull().sum()\n"
   ]
  },
  {
   "cell_type": "code",
   "execution_count": null,
   "id": "da9a2fab",
   "metadata": {},
   "outputs": [],
   "source": [
    "\n",
    "plt.figure(figsize=(10,6))\n",
    "sns.heatmap(df.corr(), annot=True, cmap=\"coolwarm\", fmt=\".2f\")\n",
    "plt.title(\"Feature Correlation Heatmap\")\n",
    "plt.show()\n"
   ]
  },
  {
   "cell_type": "code",
   "execution_count": null,
   "id": "2e685207",
   "metadata": {},
   "outputs": [],
   "source": [
    "\n",
    "df.hist(figsize=(12,10), bins=20)\n",
    "plt.suptitle(\"Feature Distributions\", fontsize=16)\n",
    "plt.show()\n"
   ]
  },
  {
   "cell_type": "markdown",
   "id": "a930c78e",
   "metadata": {},
   "source": [
    "## **Train a Regression Model - Predicting Cholesterol Levels**"
   ]
  },
  {
   "cell_type": "code",
   "execution_count": null,
   "id": "65c85a6f",
   "metadata": {},
   "outputs": [],
   "source": [
    "\n",
    "from sklearn.model_selection import train_test_split\n",
    "from sklearn.linear_model import LinearRegression\n",
    "from sklearn.metrics import mean_absolute_error, mean_squared_error\n",
    "\n",
    "# Define features and target for regression\n",
    "X_reg = df.drop(columns=[\"chol\", \"target\"])\n",
    "y_reg = df[\"chol\"]\n",
    "\n",
    "# Train-test split\n",
    "X_train, X_test, y_train, y_test = train_test_split(X_reg, y_reg, test_size=0.2, random_state=42)\n",
    "\n",
    "# Train the model\n",
    "reg_model = LinearRegression()\n",
    "reg_model.fit(X_train, y_train)\n",
    "\n",
    "# Predictions\n",
    "y_pred = reg_model.predict(X_test)\n",
    "\n",
    "# Evaluation\n",
    "mae = mean_absolute_error(y_test, y_pred)\n",
    "mse = mean_squared_error(y_test, y_pred)\n",
    "\n",
    "print(f\"Mean Absolute Error: {mae:.2f}\")\n",
    "print(f\"Mean Squared Error: {mse:.2f}\")\n"
   ]
  },
  {
   "cell_type": "code",
   "execution_count": null,
   "id": "151fb663",
   "metadata": {},
   "outputs": [],
   "source": [
    "\n",
    "plt.figure(figsize=(8,6))\n",
    "plt.scatter(y_test, y_pred, alpha=0.7, color='blue', label=\"Predictions\")\n",
    "plt.plot(y_test, y_test, color='red', label=\"Ideal Fit\")\n",
    "plt.xlabel(\"Actual Cholesterol Levels\")\n",
    "plt.ylabel(\"Predicted Cholesterol Levels\")\n",
    "plt.title(\"Actual vs Predicted Cholesterol Levels\")\n",
    "plt.legend()\n",
    "plt.show()\n"
   ]
  },
  {
   "cell_type": "markdown",
   "id": "185b255b",
   "metadata": {},
   "source": [
    "## **Train a Classification Model - Predicting Heart Disease Presence**"
   ]
  },
  {
   "cell_type": "code",
   "execution_count": null,
   "id": "5d8a6649",
   "metadata": {},
   "outputs": [],
   "source": [
    "\n",
    "from sklearn.linear_model import LogisticRegression\n",
    "from sklearn.metrics import accuracy_score, classification_report, confusion_matrix\n",
    "\n",
    "# Define features and target for classification\n",
    "X_cls = df.drop(columns=[\"target\"])\n",
    "y_cls = df[\"target\"]\n",
    "\n",
    "# Train-test split\n",
    "X_train, X_test, y_train, y_test = train_test_split(X_cls, y_cls, test_size=0.2, random_state=42)\n",
    "\n",
    "# Train the model\n",
    "cls_model = LogisticRegression(max_iter=1000)\n",
    "cls_model.fit(X_train, y_train)\n",
    "\n",
    "# Predictions\n",
    "y_pred_cls = cls_model.predict(X_test)\n",
    "\n",
    "# Evaluation\n",
    "accuracy = accuracy_score(y_test, y_pred_cls)\n",
    "print(f\"Accuracy: {accuracy:.2f}\")\n",
    "print(\"Classification Report:\n",
    "\", classification_report(y_test, y_pred_cls))\n"
   ]
  },
  {
   "cell_type": "code",
   "execution_count": null,
   "id": "2ced0d60",
   "metadata": {},
   "outputs": [],
   "source": [
    "\n",
    "# Confusion Matrix\n",
    "cm = confusion_matrix(y_test, y_pred_cls)\n",
    "plt.figure(figsize=(6,4))\n",
    "sns.heatmap(cm, annot=True, fmt=\"d\", cmap=\"Blues\", xticklabels=[\"No Disease\", \"Disease\"], yticklabels=[\"No Disease\", \"Disease\"])\n",
    "plt.xlabel(\"Predicted Label\")\n",
    "plt.ylabel(\"True Label\")\n",
    "plt.title(\"Confusion Matrix for Heart Disease Prediction\")\n",
    "plt.show()\n"
   ]
  },
  {
   "cell_type": "markdown",
   "id": "632840e3",
   "metadata": {},
   "source": [
    "## **Train a Clustering Model - Patient Risk Clustering**"
   ]
  },
  {
   "cell_type": "code",
   "execution_count": null,
   "id": "30f964bc",
   "metadata": {},
   "outputs": [],
   "source": [
    "\n",
    "from sklearn.cluster import KMeans\n",
    "\n",
    "# Define features for clustering\n",
    "X_clust = df.drop(columns=[\"target\"])\n",
    "\n",
    "# Train K-Means model with 3 clusters\n",
    "kmeans = KMeans(n_clusters=3, random_state=42)\n",
    "df[\"cluster\"] = kmeans.fit_predict(X_clust)\n",
    "\n",
    "# Display cluster counts\n",
    "df[\"cluster\"].value_counts()\n"
   ]
  },
  {
   "cell_type": "code",
   "execution_count": null,
   "id": "08804615",
   "metadata": {},
   "outputs": [],
   "source": [
    "\n",
    "plt.figure(figsize=(8,6))\n",
    "sns.scatterplot(x=df[\"age\"], y=df[\"thalach\"], hue=df[\"cluster\"], palette=\"viridis\")\n",
    "plt.xlabel(\"Age\")\n",
    "plt.ylabel(\"Max Heart Rate (thalach)\")\n",
    "plt.title(\"Patient Clusters based on Age and Max Heart Rate\")\n",
    "plt.show()\n"
   ]
  },
  {
   "cell_type": "markdown",
   "id": "6af30675",
   "metadata": {},
   "source": [
    "\n",
    "## **Summary**\n",
    "We successfully applied three machine learning models using the Heart Disease UCI dataset:\n",
    "\n",
    "- **Regression**: Predicted cholesterol levels using patient attributes.\n",
    "- **Classification**: Predicted the presence of heart disease using a logistic regression model.\n",
    "- **Clustering**: Grouped patients into clusters based on clinical features.\n",
    "\n",
    "Each step involved data preprocessing, model training, evaluation, and meaningful visualization.\n",
    "\n",
    "This notebook provides a hands-on introduction to fundamental machine learning techniques in medicine.\n"
   ]
  }
 ],
 "metadata": {},
 "nbformat": 4,
 "nbformat_minor": 5
}
